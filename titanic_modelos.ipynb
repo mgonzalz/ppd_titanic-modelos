{
  "nbformat": 4,
  "nbformat_minor": 0,
  "metadata": {
    "colab": {
      "provenance": [],
      "toc_visible": true,
      "authorship_tag": "ABX9TyNJQG0X6sDQJyagsu21bJ3G",
      "include_colab_link": true
    },
    "kernelspec": {
      "name": "python3",
      "display_name": "Python 3"
    },
    "language_info": {
      "name": "python"
    }
  },
  "cells": [
    {
      "cell_type": "markdown",
      "metadata": {
        "id": "view-in-github",
        "colab_type": "text"
      },
      "source": [
        "<a href=\"https://colab.research.google.com/github/mgonzalz/ppd_titanic-modelos/blob/main/titanic_modelos.ipynb\" target=\"_parent\"><img src=\"https://colab.research.google.com/assets/colab-badge.svg\" alt=\"Open In Colab\"/></a>"
      ]
    },
    {
      "cell_type": "markdown",
      "source": [
        "# **Estudio del Titanic: Clasificador binario.**\n",
        "Partimos del dataset `titanic_train.csv` que contiene datos de 891 pasajeros del Titanic.\n",
        "\n",
        "Las columnas son las siguientes:\n",
        "\n",
        "*   `PassengerId`: número del pasajero.\n",
        "*   `Survived`: si sobrevivió.\n",
        "*   `Pclass`: clase en la que viajaba.\n",
        "*   `Name`: nombre del pasajero.\n",
        "*   `Sex`: hombre o mujer.\n",
        "*   `Age`: edad.\n",
        "*   `SibSp`: número de hermanos o cónyuges con los que viajaba.\n",
        "*   `Parch`: número de padres o hijos con los que viajaba.\n",
        "*   `Ticket`: nº del billete.\n",
        "*   `Fare`: importe del billete.\n",
        "*   `Cabin`: camarote en el que viajaba.\n",
        "*   `Embarked`: puerto en el que embarcó.\n",
        "\n",
        "Se parangonarán todos los modelos de clasificación vistos hasta ahora, evaluando su precisión y determinando cuál es el enfoque más efectivo para analizar los datos."
      ],
      "metadata": {
        "id": "vnmC5onyXRjB"
      }
    },
    {
      "cell_type": "markdown",
      "source": [
        "## Importación e instalación.\n",
        "Para evitar la subida de archivos manualmente en Google Colab, clonaremos directamente el repositorio donde se encuentran alojados los archivos necesarios para la evaluación del modelo y luego los añadiremos al directorio actual."
      ],
      "metadata": {
        "id": "QgJoqBZXYuKa"
      }
    },
    {
      "cell_type": "code",
      "source": [
        "!git clone https://github.com/mgonzalz/ppd_titanic-modelos.git"
      ],
      "metadata": {
        "colab": {
          "base_uri": "https://localhost:8080/"
        },
        "id": "e9c-AjUHY_TM",
        "outputId": "857de716-e4e1-4043-97d1-952d11f91758"
      },
      "execution_count": null,
      "outputs": [
        {
          "output_type": "stream",
          "name": "stdout",
          "text": [
            "Cloning into 'ppd_titanic-modelos'...\n",
            "remote: Enumerating objects: 8, done.\u001b[K\n",
            "remote: Counting objects: 100% (8/8), done.\u001b[K\n",
            "remote: Compressing objects: 100% (5/5), done.\u001b[K\n",
            "remote: Total 8 (delta 0), reused 5 (delta 0), pack-reused 0\u001b[K\n",
            "Receiving objects: 100% (8/8), 22.69 KiB | 505.00 KiB/s, done.\n"
          ]
        }
      ]
    },
    {
      "cell_type": "code",
      "source": [
        "!mv ppd_titanic-modelos/* ./ # Mover los archivos al directorio general"
      ],
      "metadata": {
        "id": "CFrICfxgZFxn",
        "colab": {
          "base_uri": "https://localhost:8080/"
        },
        "outputId": "b53587c6-b4a0-4938-8d40-fdeb6a6768ba"
      },
      "execution_count": null,
      "outputs": [
        {
          "output_type": "stream",
          "name": "stdout",
          "text": [
            "mv: cannot move 'ppd_titanic-modelos/data' to './data': Directory not empty\n"
          ]
        }
      ]
    },
    {
      "cell_type": "code",
      "source": [
        "!rm -rf ppd_titanic-modelos # Eliminación de la carpeta vacía"
      ],
      "metadata": {
        "id": "voIl_pz_ZKz7"
      },
      "execution_count": null,
      "outputs": []
    },
    {
      "cell_type": "markdown",
      "source": [
        "El archivo `requirements.txt` contiene todas las versiones de los paquetes utilizados. A través de la siguiente secuencia de código los instalaremos e importaremos los métodos necesarios."
      ],
      "metadata": {
        "id": "vveZ9eZ3ZPQz"
      }
    },
    {
      "cell_type": "code",
      "source": [
        "!pip install -r requirements.txt"
      ],
      "metadata": {
        "colab": {
          "base_uri": "https://localhost:8080/"
        },
        "id": "Q-pf9C3OZO7Y",
        "outputId": "b1c963b8-485b-4b48-d604-a9b443f5bdbb"
      },
      "execution_count": null,
      "outputs": [
        {
          "output_type": "stream",
          "name": "stdout",
          "text": [
            "Requirement already satisfied: findspark==2.0.1 in /usr/local/lib/python3.10/dist-packages (from -r requirements.txt (line 1)) (2.0.1)\n",
            "Requirement already satisfied: pyspark==3.5.1 in /usr/local/lib/python3.10/dist-packages (from -r requirements.txt (line 2)) (3.5.1)\n",
            "Requirement already satisfied: IPython==7.34.0 in /usr/local/lib/python3.10/dist-packages (from -r requirements.txt (line 3)) (7.34.0)\n",
            "Requirement already satisfied: jupyter_client==6.1.12 in /usr/local/lib/python3.10/dist-packages (from -r requirements.txt (line 4)) (6.1.12)\n",
            "Requirement already satisfied: jupyter_core==5.7.2 in /usr/local/lib/python3.10/dist-packages (from -r requirements.txt (line 5)) (5.7.2)\n",
            "Requirement already satisfied: notebook==6.5.5 in /usr/local/lib/python3.10/dist-packages (from -r requirements.txt (line 6)) (6.5.5)\n",
            "Requirement already satisfied: py4j==0.10.9.7 in /usr/local/lib/python3.10/dist-packages (from pyspark==3.5.1->-r requirements.txt (line 2)) (0.10.9.7)\n",
            "Requirement already satisfied: setuptools>=18.5 in /usr/local/lib/python3.10/dist-packages (from IPython==7.34.0->-r requirements.txt (line 3)) (67.7.2)\n",
            "Requirement already satisfied: jedi>=0.16 in /usr/local/lib/python3.10/dist-packages (from IPython==7.34.0->-r requirements.txt (line 3)) (0.19.1)\n",
            "Requirement already satisfied: decorator in /usr/local/lib/python3.10/dist-packages (from IPython==7.34.0->-r requirements.txt (line 3)) (4.4.2)\n",
            "Requirement already satisfied: pickleshare in /usr/local/lib/python3.10/dist-packages (from IPython==7.34.0->-r requirements.txt (line 3)) (0.7.5)\n",
            "Requirement already satisfied: traitlets>=4.2 in /usr/local/lib/python3.10/dist-packages (from IPython==7.34.0->-r requirements.txt (line 3)) (5.7.1)\n",
            "Requirement already satisfied: prompt-toolkit!=3.0.0,!=3.0.1,<3.1.0,>=2.0.0 in /usr/local/lib/python3.10/dist-packages (from IPython==7.34.0->-r requirements.txt (line 3)) (3.0.43)\n",
            "Requirement already satisfied: pygments in /usr/local/lib/python3.10/dist-packages (from IPython==7.34.0->-r requirements.txt (line 3)) (2.16.1)\n",
            "Requirement already satisfied: backcall in /usr/local/lib/python3.10/dist-packages (from IPython==7.34.0->-r requirements.txt (line 3)) (0.2.0)\n",
            "Requirement already satisfied: matplotlib-inline in /usr/local/lib/python3.10/dist-packages (from IPython==7.34.0->-r requirements.txt (line 3)) (0.1.7)\n",
            "Requirement already satisfied: pexpect>4.3 in /usr/local/lib/python3.10/dist-packages (from IPython==7.34.0->-r requirements.txt (line 3)) (4.9.0)\n",
            "Requirement already satisfied: pyzmq>=13 in /usr/local/lib/python3.10/dist-packages (from jupyter_client==6.1.12->-r requirements.txt (line 4)) (24.0.1)\n",
            "Requirement already satisfied: python-dateutil>=2.1 in /usr/local/lib/python3.10/dist-packages (from jupyter_client==6.1.12->-r requirements.txt (line 4)) (2.8.2)\n",
            "Requirement already satisfied: tornado>=4.1 in /usr/local/lib/python3.10/dist-packages (from jupyter_client==6.1.12->-r requirements.txt (line 4)) (6.3.3)\n",
            "Requirement already satisfied: platformdirs>=2.5 in /usr/local/lib/python3.10/dist-packages (from jupyter_core==5.7.2->-r requirements.txt (line 5)) (4.2.1)\n",
            "Requirement already satisfied: jinja2 in /usr/local/lib/python3.10/dist-packages (from notebook==6.5.5->-r requirements.txt (line 6)) (3.1.3)\n",
            "Requirement already satisfied: argon2-cffi in /usr/local/lib/python3.10/dist-packages (from notebook==6.5.5->-r requirements.txt (line 6)) (23.1.0)\n",
            "Requirement already satisfied: ipython-genutils in /usr/local/lib/python3.10/dist-packages (from notebook==6.5.5->-r requirements.txt (line 6)) (0.2.0)\n",
            "Requirement already satisfied: nbformat in /usr/local/lib/python3.10/dist-packages (from notebook==6.5.5->-r requirements.txt (line 6)) (5.10.4)\n",
            "Requirement already satisfied: nbconvert>=5 in /usr/local/lib/python3.10/dist-packages (from notebook==6.5.5->-r requirements.txt (line 6)) (6.5.4)\n",
            "Requirement already satisfied: nest-asyncio>=1.5 in /usr/local/lib/python3.10/dist-packages (from notebook==6.5.5->-r requirements.txt (line 6)) (1.6.0)\n",
            "Requirement already satisfied: ipykernel in /usr/local/lib/python3.10/dist-packages (from notebook==6.5.5->-r requirements.txt (line 6)) (5.5.6)\n",
            "Requirement already satisfied: Send2Trash>=1.8.0 in /usr/local/lib/python3.10/dist-packages (from notebook==6.5.5->-r requirements.txt (line 6)) (1.8.3)\n",
            "Requirement already satisfied: terminado>=0.8.3 in /usr/local/lib/python3.10/dist-packages (from notebook==6.5.5->-r requirements.txt (line 6)) (0.18.1)\n",
            "Requirement already satisfied: prometheus-client in /usr/local/lib/python3.10/dist-packages (from notebook==6.5.5->-r requirements.txt (line 6)) (0.20.0)\n",
            "Requirement already satisfied: nbclassic>=0.4.7 in /usr/local/lib/python3.10/dist-packages (from notebook==6.5.5->-r requirements.txt (line 6)) (1.0.0)\n",
            "Requirement already satisfied: parso<0.9.0,>=0.8.3 in /usr/local/lib/python3.10/dist-packages (from jedi>=0.16->IPython==7.34.0->-r requirements.txt (line 3)) (0.8.4)\n",
            "Requirement already satisfied: jupyter-server>=1.8 in /usr/local/lib/python3.10/dist-packages (from nbclassic>=0.4.7->notebook==6.5.5->-r requirements.txt (line 6)) (1.24.0)\n",
            "Requirement already satisfied: notebook-shim>=0.2.3 in /usr/local/lib/python3.10/dist-packages (from nbclassic>=0.4.7->notebook==6.5.5->-r requirements.txt (line 6)) (0.2.4)\n",
            "Requirement already satisfied: lxml in /usr/local/lib/python3.10/dist-packages (from nbconvert>=5->notebook==6.5.5->-r requirements.txt (line 6)) (4.9.4)\n",
            "Requirement already satisfied: beautifulsoup4 in /usr/local/lib/python3.10/dist-packages (from nbconvert>=5->notebook==6.5.5->-r requirements.txt (line 6)) (4.12.3)\n",
            "Requirement already satisfied: bleach in /usr/local/lib/python3.10/dist-packages (from nbconvert>=5->notebook==6.5.5->-r requirements.txt (line 6)) (6.1.0)\n",
            "Requirement already satisfied: defusedxml in /usr/local/lib/python3.10/dist-packages (from nbconvert>=5->notebook==6.5.5->-r requirements.txt (line 6)) (0.7.1)\n",
            "Requirement already satisfied: entrypoints>=0.2.2 in /usr/local/lib/python3.10/dist-packages (from nbconvert>=5->notebook==6.5.5->-r requirements.txt (line 6)) (0.4)\n",
            "Requirement already satisfied: jupyterlab-pygments in /usr/local/lib/python3.10/dist-packages (from nbconvert>=5->notebook==6.5.5->-r requirements.txt (line 6)) (0.3.0)\n",
            "Requirement already satisfied: MarkupSafe>=2.0 in /usr/local/lib/python3.10/dist-packages (from nbconvert>=5->notebook==6.5.5->-r requirements.txt (line 6)) (2.1.5)\n",
            "Requirement already satisfied: mistune<2,>=0.8.1 in /usr/local/lib/python3.10/dist-packages (from nbconvert>=5->notebook==6.5.5->-r requirements.txt (line 6)) (0.8.4)\n",
            "Requirement already satisfied: nbclient>=0.5.0 in /usr/local/lib/python3.10/dist-packages (from nbconvert>=5->notebook==6.5.5->-r requirements.txt (line 6)) (0.10.0)\n",
            "Requirement already satisfied: packaging in /usr/local/lib/python3.10/dist-packages (from nbconvert>=5->notebook==6.5.5->-r requirements.txt (line 6)) (24.0)\n",
            "Requirement already satisfied: pandocfilters>=1.4.1 in /usr/local/lib/python3.10/dist-packages (from nbconvert>=5->notebook==6.5.5->-r requirements.txt (line 6)) (1.5.1)\n",
            "Requirement already satisfied: tinycss2 in /usr/local/lib/python3.10/dist-packages (from nbconvert>=5->notebook==6.5.5->-r requirements.txt (line 6)) (1.3.0)\n",
            "Requirement already satisfied: fastjsonschema>=2.15 in /usr/local/lib/python3.10/dist-packages (from nbformat->notebook==6.5.5->-r requirements.txt (line 6)) (2.19.1)\n",
            "Requirement already satisfied: jsonschema>=2.6 in /usr/local/lib/python3.10/dist-packages (from nbformat->notebook==6.5.5->-r requirements.txt (line 6)) (4.19.2)\n",
            "Requirement already satisfied: ptyprocess>=0.5 in /usr/local/lib/python3.10/dist-packages (from pexpect>4.3->IPython==7.34.0->-r requirements.txt (line 3)) (0.7.0)\n",
            "Requirement already satisfied: wcwidth in /usr/local/lib/python3.10/dist-packages (from prompt-toolkit!=3.0.0,!=3.0.1,<3.1.0,>=2.0.0->IPython==7.34.0->-r requirements.txt (line 3)) (0.2.13)\n",
            "Requirement already satisfied: six>=1.5 in /usr/local/lib/python3.10/dist-packages (from python-dateutil>=2.1->jupyter_client==6.1.12->-r requirements.txt (line 4)) (1.16.0)\n",
            "Requirement already satisfied: argon2-cffi-bindings in /usr/local/lib/python3.10/dist-packages (from argon2-cffi->notebook==6.5.5->-r requirements.txt (line 6)) (21.2.0)\n",
            "Requirement already satisfied: attrs>=22.2.0 in /usr/local/lib/python3.10/dist-packages (from jsonschema>=2.6->nbformat->notebook==6.5.5->-r requirements.txt (line 6)) (23.2.0)\n",
            "Requirement already satisfied: jsonschema-specifications>=2023.03.6 in /usr/local/lib/python3.10/dist-packages (from jsonschema>=2.6->nbformat->notebook==6.5.5->-r requirements.txt (line 6)) (2023.12.1)\n",
            "Requirement already satisfied: referencing>=0.28.4 in /usr/local/lib/python3.10/dist-packages (from jsonschema>=2.6->nbformat->notebook==6.5.5->-r requirements.txt (line 6)) (0.35.0)\n",
            "Requirement already satisfied: rpds-py>=0.7.1 in /usr/local/lib/python3.10/dist-packages (from jsonschema>=2.6->nbformat->notebook==6.5.5->-r requirements.txt (line 6)) (0.18.0)\n",
            "Requirement already satisfied: anyio<4,>=3.1.0 in /usr/local/lib/python3.10/dist-packages (from jupyter-server>=1.8->nbclassic>=0.4.7->notebook==6.5.5->-r requirements.txt (line 6)) (3.7.1)\n",
            "Requirement already satisfied: websocket-client in /usr/local/lib/python3.10/dist-packages (from jupyter-server>=1.8->nbclassic>=0.4.7->notebook==6.5.5->-r requirements.txt (line 6)) (1.8.0)\n",
            "Requirement already satisfied: cffi>=1.0.1 in /usr/local/lib/python3.10/dist-packages (from argon2-cffi-bindings->argon2-cffi->notebook==6.5.5->-r requirements.txt (line 6)) (1.16.0)\n",
            "Requirement already satisfied: soupsieve>1.2 in /usr/local/lib/python3.10/dist-packages (from beautifulsoup4->nbconvert>=5->notebook==6.5.5->-r requirements.txt (line 6)) (2.5)\n",
            "Requirement already satisfied: webencodings in /usr/local/lib/python3.10/dist-packages (from bleach->nbconvert>=5->notebook==6.5.5->-r requirements.txt (line 6)) (0.5.1)\n",
            "Requirement already satisfied: idna>=2.8 in /usr/local/lib/python3.10/dist-packages (from anyio<4,>=3.1.0->jupyter-server>=1.8->nbclassic>=0.4.7->notebook==6.5.5->-r requirements.txt (line 6)) (3.7)\n",
            "Requirement already satisfied: sniffio>=1.1 in /usr/local/lib/python3.10/dist-packages (from anyio<4,>=3.1.0->jupyter-server>=1.8->nbclassic>=0.4.7->notebook==6.5.5->-r requirements.txt (line 6)) (1.3.1)\n",
            "Requirement already satisfied: exceptiongroup in /usr/local/lib/python3.10/dist-packages (from anyio<4,>=3.1.0->jupyter-server>=1.8->nbclassic>=0.4.7->notebook==6.5.5->-r requirements.txt (line 6)) (1.2.1)\n",
            "Requirement already satisfied: pycparser in /usr/local/lib/python3.10/dist-packages (from cffi>=1.0.1->argon2-cffi-bindings->argon2-cffi->notebook==6.5.5->-r requirements.txt (line 6)) (2.22)\n"
          ]
        }
      ]
    },
    {
      "cell_type": "code",
      "source": [
        "# Python estándar\n",
        "import os\n",
        "import sys\n",
        "from typing import List\n",
        "\n",
        "# Configuración de Spark\n",
        "import findspark\n",
        "import pyspark\n",
        "from pyspark.sql import DataFrame, SparkSession\n",
        "import pyspark.sql.types as T\n",
        "import pyspark.sql.functions as F\n",
        "\n",
        "# Modelado y evaluación de Spark ML\n",
        "from pyspark.ml.regression import LinearRegression\n",
        "from pyspark.ml.feature import VectorAssembler, StringIndexer\n",
        "from pyspark.ml.evaluation import MulticlassClassificationEvaluator\n",
        "from pyspark.ml.feature import MinMaxScaler\n",
        "from pyspark.ml import Pipeline\n",
        "from pyspark.ml.classification import LogisticRegression, DecisionTreeClassifier, \\\n",
        "                                      GBTClassifier, RandomForestClassifier, LinearSVC, NaiveBayes, \\\n",
        "                                      MultilayerPerceptronClassifier"
      ],
      "metadata": {
        "id": "cjHfSgG1ZTam"
      },
      "execution_count": null,
      "outputs": []
    },
    {
      "cell_type": "markdown",
      "source": [
        "## Creación del entorno.\n",
        "Se preparará el entorno para el uso de Spark, descargando este y configurando las variables de entorno necesarias. Mediante `findspark` se habilitará la accesibilidad de Spark desde el entorno de ejecución. Finalmente, se crea la sesión de Spark."
      ],
      "metadata": {
        "id": "gB0VzkevYpKY"
      }
    },
    {
      "cell_type": "code",
      "execution_count": null,
      "metadata": {
        "colab": {
          "base_uri": "https://localhost:8080/",
          "height": 514
        },
        "id": "Y2ZgRNskXEzH",
        "outputId": "c0e5c1b9-b0b9-4987-ff51-67da0dabb5fc"
      },
      "outputs": [
        {
          "output_type": "stream",
          "name": "stdout",
          "text": [
            "\u001b[33m\r0% [Working]\u001b[0m\r            \rHit:1 https://cloud.r-project.org/bin/linux/ubuntu jammy-cran40/ InRelease\n",
            "\u001b[33m\r0% [Waiting for headers] [Connecting to security.ubuntu.com] [Connecting to ppa\u001b[0m\r                                                                               \rHit:2 https://developer.download.nvidia.com/compute/cuda/repos/ubuntu2204/x86_64  InRelease\n",
            "\u001b[33m\r0% [Waiting for headers] [Connecting to security.ubuntu.com] [Connecting to ppa\u001b[0m\r                                                                               \rHit:3 http://archive.ubuntu.com/ubuntu jammy InRelease\n",
            "\u001b[33m\r0% [Waiting for headers] [Connecting to security.ubuntu.com (185.125.190.36)] [\u001b[0m\r                                                                               \rHit:4 http://archive.ubuntu.com/ubuntu jammy-updates InRelease\n",
            "Hit:5 http://archive.ubuntu.com/ubuntu jammy-backports InRelease\n",
            "Hit:6 http://security.ubuntu.com/ubuntu jammy-security InRelease\n",
            "Hit:7 https://ppa.launchpadcontent.net/c2d4u.team/c2d4u4.0+/ubuntu jammy InRelease\n",
            "Hit:8 https://ppa.launchpadcontent.net/deadsnakes/ppa/ubuntu jammy InRelease\n",
            "Hit:9 https://ppa.launchpadcontent.net/graphics-drivers/ppa/ubuntu jammy InRelease\n",
            "Hit:10 https://ppa.launchpadcontent.net/ubuntugis/ppa/ubuntu jammy InRelease\n",
            "Reading package lists... Done\n",
            "Building dependency tree... Done\n",
            "Reading state information... Done\n",
            "46 packages can be upgraded. Run 'apt list --upgradable' to see them.\n",
            "tar: spark-3.2.1-bin-hadoop3.2.tgz: Cannot open: No such file or directory\n",
            "tar: Error is not recoverable: exiting now\n"
          ]
        },
        {
          "output_type": "execute_result",
          "data": {
            "text/plain": [
              "<pyspark.sql.session.SparkSession at 0x7a9fa1e6efb0>"
            ],
            "text/html": [
              "\n",
              "            <div>\n",
              "                <p><b>SparkSession - in-memory</b></p>\n",
              "                \n",
              "        <div>\n",
              "            <p><b>SparkContext</b></p>\n",
              "\n",
              "            <p><a href=\"http://43888bd63cfe:4040\">Spark UI</a></p>\n",
              "\n",
              "            <dl>\n",
              "              <dt>Version</dt>\n",
              "                <dd><code>v3.5.1</code></dd>\n",
              "              <dt>Master</dt>\n",
              "                <dd><code>local[*]</code></dd>\n",
              "              <dt>AppName</dt>\n",
              "                <dd><code>Clasificador-Binario</code></dd>\n",
              "            </dl>\n",
              "        </div>\n",
              "        \n",
              "            </div>\n",
              "        "
            ]
          },
          "metadata": {},
          "execution_count": 128
        }
      ],
      "source": [
        "!sudo apt update\n",
        "!apt-get install openjdk-8-jdk-headless -qq > /dev/null\n",
        "#Check this site for the latest download link https://www.apache.org/dyn/closer.lua/spark/spark-3.2.1/spark-3.2.1-bin-hadoop3.2.tgz\n",
        "!wget -q https://dlcdn.apache.org/spark/spark-3.2.1/spark-3.2.1-bin-hadoop3.2.tgz\n",
        "!tar xf spark-3.2.1-bin-hadoop3.2.tgz\n",
        "\n",
        "# os.environ[\"JAVA_HOME\"] = \"/usr/lib/jvm/java-8-openjdk-amd64\"\n",
        "# os.environ[\"SPARK_HOME\"] = \"/content/spark-3.2.1-bin-hadoop3.2\"\n",
        "\n",
        "findspark.init()\n",
        "findspark.find()\n",
        "\n",
        "spark= SparkSession \\\n",
        "       .builder \\\n",
        "       .appName(\"Clasificador-Binario\") \\\n",
        "       .getOrCreate()\n",
        "\n",
        "spark"
      ]
    },
    {
      "cell_type": "code",
      "source": [
        "spark=SparkSession.builder.appName('Clasificador-Binario').getOrCreate()"
      ],
      "metadata": {
        "id": "NBPxfw9kgryq"
      },
      "execution_count": null,
      "outputs": []
    },
    {
      "cell_type": "markdown",
      "source": [
        "## Preparación del dataset.\n",
        "Antes de la realización de modelos de clasificación, debemos de preparar los datos y tener un conocimiento sobre estos."
      ],
      "metadata": {
        "id": "DXUkCk5SZ9mU"
      }
    },
    {
      "cell_type": "code",
      "source": [
        "data = spark.read.csv(\"/content/data/titanic_train (1).csv\", header= True, inferSchema=True, sep =',')\n",
        "data.show(5)"
      ],
      "metadata": {
        "colab": {
          "base_uri": "https://localhost:8080/"
        },
        "id": "XqEwX7UraBoY",
        "outputId": "adedeb7d-e62f-420e-f584-2db34b22dd21"
      },
      "execution_count": null,
      "outputs": [
        {
          "output_type": "stream",
          "name": "stdout",
          "text": [
            "+-----------+--------+------+--------------------+------+----+-----+-----+----------------+-------+-----+--------+\n",
            "|PassengerId|Survived|Pclass|                Name|   Sex| Age|SibSp|Parch|          Ticket|   Fare|Cabin|Embarked|\n",
            "+-----------+--------+------+--------------------+------+----+-----+-----+----------------+-------+-----+--------+\n",
            "|          1|       0|     3|Braund, Mr. Owen ...|  male|22.0|    1|    0|       A/5 21171|   7.25| NULL|       S|\n",
            "|          2|       1|     1|Cumings, Mrs. Joh...|female|38.0|    1|    0|        PC 17599|71.2833|  C85|       C|\n",
            "|          3|       1|     3|Heikkinen, Miss. ...|female|26.0|    0|    0|STON/O2. 3101282|  7.925| NULL|       S|\n",
            "|          4|       1|     1|Futrelle, Mrs. Ja...|female|35.0|    1|    0|          113803|   53.1| C123|       S|\n",
            "|          5|       0|     3|Allen, Mr. Willia...|  male|35.0|    0|    0|          373450|   8.05| NULL|       S|\n",
            "+-----------+--------+------+--------------------+------+----+-----+-----+----------------+-------+-----+--------+\n",
            "only showing top 5 rows\n",
            "\n"
          ]
        }
      ]
    },
    {
      "cell_type": "markdown",
      "source": [
        "Analicemos este dataset. A primera vista vemos que para el estudio podemos prescindir del `PassengerId` ya que se trata del ID del pasajero y no aporta información para el estudio. Pasa lo mismo con la columna `Name`, el nombre del pasajero no influye en el estudio, y `Ticket`. Por ello, serán suprimidas."
      ],
      "metadata": {
        "id": "5IWYtioHelyC"
      }
    },
    {
      "cell_type": "code",
      "source": [
        "data = data.drop('PassengerId', 'Name', 'Ticket')\n",
        "data.show(5)"
      ],
      "metadata": {
        "colab": {
          "base_uri": "https://localhost:8080/"
        },
        "id": "NgREKG28e81a",
        "outputId": "e6d76d0f-2bb1-4f8b-abc9-04908b3e7eaa"
      },
      "execution_count": null,
      "outputs": [
        {
          "output_type": "stream",
          "name": "stdout",
          "text": [
            "+--------+------+------+----+-----+-----+-------+-----+--------+\n",
            "|Survived|Pclass|   Sex| Age|SibSp|Parch|   Fare|Cabin|Embarked|\n",
            "+--------+------+------+----+-----+-----+-------+-----+--------+\n",
            "|       0|     3|  male|22.0|    1|    0|   7.25| NULL|       S|\n",
            "|       1|     1|female|38.0|    1|    0|71.2833|  C85|       C|\n",
            "|       1|     3|female|26.0|    0|    0|  7.925| NULL|       S|\n",
            "|       1|     1|female|35.0|    1|    0|   53.1| C123|       S|\n",
            "|       0|     3|  male|35.0|    0|    0|   8.05| NULL|       S|\n",
            "+--------+------+------+----+-----+-----+-------+-----+--------+\n",
            "only showing top 5 rows\n",
            "\n"
          ]
        }
      ]
    },
    {
      "cell_type": "code",
      "source": [
        "print(f\"Total de datos: {data.count()}\")"
      ],
      "metadata": {
        "colab": {
          "base_uri": "https://localhost:8080/"
        },
        "id": "wpmSDSjZgsBj",
        "outputId": "22c41f92-6b54-4edc-f3ef-fac09b885b7a"
      },
      "execution_count": null,
      "outputs": [
        {
          "output_type": "stream",
          "name": "stdout",
          "text": [
            "Total de datos: 891\n"
          ]
        }
      ]
    },
    {
      "cell_type": "markdown",
      "source": [
        "### Valores nulos.\n",
        "La posesión de valores nulos afecta al estudio. Se puede presuponer que al eliminar todos estos, el dataset esta completamente limpio. Sin embargo, la supresión por completo de ellos puede ocasionar un error en el estudio, por ello es necesario su estudio y análisis."
      ],
      "metadata": {
        "id": "heysH2EZgjZR"
      }
    },
    {
      "cell_type": "code",
      "source": [
        "data.printSchema()"
      ],
      "metadata": {
        "colab": {
          "base_uri": "https://localhost:8080/"
        },
        "id": "ij_ArFBLpeGu",
        "outputId": "5bc27faf-4ab3-408d-c8a5-1a331e620c5b"
      },
      "execution_count": null,
      "outputs": [
        {
          "output_type": "stream",
          "name": "stdout",
          "text": [
            "root\n",
            " |-- Survived: integer (nullable = true)\n",
            " |-- Pclass: integer (nullable = true)\n",
            " |-- Sex: string (nullable = true)\n",
            " |-- Age: double (nullable = true)\n",
            " |-- SibSp: integer (nullable = true)\n",
            " |-- Parch: integer (nullable = true)\n",
            " |-- Fare: double (nullable = true)\n",
            " |-- Cabin: string (nullable = true)\n",
            " |-- Embarked: string (nullable = true)\n",
            "\n"
          ]
        }
      ]
    },
    {
      "cell_type": "code",
      "source": [
        "null = data.toPandas().isnull().sum() # Valores nulos.\n",
        "null"
      ],
      "metadata": {
        "colab": {
          "base_uri": "https://localhost:8080/"
        },
        "id": "929qmZkMgmKQ",
        "outputId": "4a112f49-d575-41ee-e7a4-940c3c74eab8"
      },
      "execution_count": null,
      "outputs": [
        {
          "output_type": "execute_result",
          "data": {
            "text/plain": [
              "Survived      0\n",
              "Pclass        0\n",
              "Sex           0\n",
              "Age         177\n",
              "SibSp         0\n",
              "Parch         0\n",
              "Fare          0\n",
              "Cabin       687\n",
              "Embarked      2\n",
              "dtype: int64"
            ]
          },
          "metadata": {},
          "execution_count": 275
        }
      ]
    },
    {
      "cell_type": "code",
      "source": [
        "print(\"\\033[1mColumnas de datos nulos:\\033[0m\")\n",
        "for col, count in null.items():\n",
        "   if count > 0:\n",
        "    print('   La columna', col, 'tiene aproximadamente un', round(count/data.count()*100, 3), '% de datos nulos.')"
      ],
      "metadata": {
        "colab": {
          "base_uri": "https://localhost:8080/"
        },
        "id": "cvPjjjPiiKW1",
        "outputId": "1c26bf54-0560-4aea-fb0b-1a14478ba60c"
      },
      "execution_count": null,
      "outputs": [
        {
          "output_type": "stream",
          "name": "stdout",
          "text": [
            "\u001b[1mColumnas de datos nulos:\u001b[0m\n",
            "   La columna Age tiene aproximadamente un 19.865 % de datos nulos.\n",
            "   La columna Cabin tiene aproximadamente un 77.104 % de datos nulos.\n",
            "   La columna Embarked tiene aproximadamente un 0.224 % de datos nulos.\n"
          ]
        }
      ]
    },
    {
      "cell_type": "markdown",
      "source": [
        "Cuándo se tienen columnas con un alto número de valores nulos, lo mejor es la eliminación de estas columnas ya que si se borran las filas, el dataset se quedaría con pocos datos.\n",
        "\n",
        "Observamos que la columna `Cabin` tiene mas del 70% de datos nulos. Esta columna informa del camarote en el que viaja el tripulante. Lo mejor para esta columna será la eliminación de ella.\n",
        "\n",
        "En el caso de la columna `Embarked` al ser solo 2 filas con valores nulos, se eliminarán estas ya que su eliminación no afectará al estudio. Ya se albergan suficientes datos.\n",
        "\n",
        "Sin embargo, la columna `Age` tiene menos del 20% de datos nulos. Lo que realizaremos será la sustitución de los datos faltantes utilizando la **mediana**. La mediana es una buena medida de estimación para sustituir ya que no se ve afectada por valores atípicos, a diferencia de la media.\n",
        "\n"
      ],
      "metadata": {
        "id": "S17pTMgdjtsg"
      }
    },
    {
      "cell_type": "code",
      "source": [
        "data = data.drop('Cabin')"
      ],
      "metadata": {
        "id": "oXk_CYNQmVo5"
      },
      "execution_count": null,
      "outputs": []
    },
    {
      "cell_type": "code",
      "source": [
        "data = data.dropna(subset=[\"Embarked\"]) #eliminación filas nulas"
      ],
      "metadata": {
        "id": "gK891RionLwA"
      },
      "execution_count": null,
      "outputs": []
    },
    {
      "cell_type": "code",
      "source": [
        "median = data.agg(F.median('Age')).collect()[0]\n",
        "data = data.fillna(median[0], subset=[\"Age\"])\n",
        "data.show(5)"
      ],
      "metadata": {
        "colab": {
          "base_uri": "https://localhost:8080/"
        },
        "id": "gUaEP0QGnNwo",
        "outputId": "0580aba3-9629-4063-bac3-e37314ca9935"
      },
      "execution_count": null,
      "outputs": [
        {
          "output_type": "stream",
          "name": "stdout",
          "text": [
            "+--------+------+------+----+-----+-----+-------+--------+\n",
            "|Survived|Pclass|   Sex| Age|SibSp|Parch|   Fare|Embarked|\n",
            "+--------+------+------+----+-----+-----+-------+--------+\n",
            "|       0|     3|  male|22.0|    1|    0|   7.25|       S|\n",
            "|       1|     1|female|38.0|    1|    0|71.2833|       C|\n",
            "|       1|     3|female|26.0|    0|    0|  7.925|       S|\n",
            "|       1|     1|female|35.0|    1|    0|   53.1|       S|\n",
            "|       0|     3|  male|35.0|    0|    0|   8.05|       S|\n",
            "+--------+------+------+----+-----+-----+-------+--------+\n",
            "only showing top 5 rows\n",
            "\n"
          ]
        }
      ]
    },
    {
      "cell_type": "markdown",
      "source": [
        "### Valores duplicados.\n",
        "En la celda posterior observamos que no hay filas duplicadas. En caso de haberlas, tendríamos que eliminarlas."
      ],
      "metadata": {
        "id": "3oxgfHT8okUi"
      }
    },
    {
      "cell_type": "code",
      "source": [
        "data.subtract(data.dropDuplicates()).show()"
      ],
      "metadata": {
        "colab": {
          "base_uri": "https://localhost:8080/"
        },
        "id": "eTmQDnsigE_6",
        "outputId": "176486f3-7c6c-48de-bb58-aab25e64c4ac"
      },
      "execution_count": null,
      "outputs": [
        {
          "output_type": "stream",
          "name": "stdout",
          "text": [
            "+--------+------+---+---+-----+-----+----+--------+\n",
            "|Survived|Pclass|Sex|Age|SibSp|Parch|Fare|Embarked|\n",
            "+--------+------+---+---+-----+-----+----+--------+\n",
            "+--------+------+---+---+-----+-----+----+--------+\n",
            "\n"
          ]
        }
      ]
    },
    {
      "cell_type": "code",
      "source": [
        "print(f\"Total de datos: {data.count()}\")"
      ],
      "metadata": {
        "colab": {
          "base_uri": "https://localhost:8080/"
        },
        "id": "EtzKRDEeobMZ",
        "outputId": "156dcf29-b7ed-4023-d0fb-7f2eade02181"
      },
      "execution_count": null,
      "outputs": [
        {
          "output_type": "stream",
          "name": "stdout",
          "text": [
            "Total de datos: 889\n"
          ]
        }
      ]
    },
    {
      "cell_type": "markdown",
      "source": [
        "### Label Encoding: Transformación de variables categóricas a tipo numérico.\n",
        "Primero haremos un estudio de las variables categóricas, y miraremos el número de datos únicos que hay y dependiendo del número que haya se hará la codificación ordinal o *Label Encoding* manualmente o automaticamente mediante `StringIndexer`."
      ],
      "metadata": {
        "id": "R3271XU8pe9g"
      }
    },
    {
      "cell_type": "code",
      "source": [
        "data.show(3)"
      ],
      "metadata": {
        "colab": {
          "base_uri": "https://localhost:8080/"
        },
        "id": "G-92HSY-wxck",
        "outputId": "ee75d15b-26bc-4305-f2fd-5cf087c495b6"
      },
      "execution_count": null,
      "outputs": [
        {
          "output_type": "stream",
          "name": "stdout",
          "text": [
            "+--------+------+------+----+-----+-----+-------+--------+\n",
            "|Survived|Pclass|   Sex| Age|SibSp|Parch|   Fare|Embarked|\n",
            "+--------+------+------+----+-----+-----+-------+--------+\n",
            "|       0|     3|  male|22.0|    1|    0|   7.25|       S|\n",
            "|       1|     1|female|38.0|    1|    0|71.2833|       C|\n",
            "|       1|     3|female|26.0|    0|    0|  7.925|       S|\n",
            "+--------+------+------+----+-----+-----+-------+--------+\n",
            "only showing top 3 rows\n",
            "\n"
          ]
        }
      ]
    },
    {
      "cell_type": "code",
      "source": [
        "data.dtypes"
      ],
      "metadata": {
        "colab": {
          "base_uri": "https://localhost:8080/"
        },
        "id": "TL0MUgV6vZ5F",
        "outputId": "68c0a6d4-08a6-424d-e17d-21bee91017d5"
      },
      "execution_count": null,
      "outputs": [
        {
          "output_type": "execute_result",
          "data": {
            "text/plain": [
              "[('Survived', 'int'),\n",
              " ('Pclass', 'int'),\n",
              " ('Sex', 'string'),\n",
              " ('Age', 'double'),\n",
              " ('SibSp', 'int'),\n",
              " ('Parch', 'int'),\n",
              " ('Fare', 'double'),\n",
              " ('Embarked', 'string')]"
            ]
          },
          "metadata": {},
          "execution_count": 283
        }
      ]
    },
    {
      "cell_type": "code",
      "source": [
        "print('\\033[1mValores únicos:\\033[0m')\n",
        "for i in data.dtypes:\n",
        "    if i[1] == 'string':\n",
        "        distinct_count = data.select(i[0]).distinct().count()\n",
        "        print(f\"   Número de valores únicos en la columna '{i[0]}':\", distinct_count)"
      ],
      "metadata": {
        "colab": {
          "base_uri": "https://localhost:8080/"
        },
        "id": "hHZDJo5syoMf",
        "outputId": "ee0bfcff-1a9e-4ae3-fe77-feca9f253d38"
      },
      "execution_count": null,
      "outputs": [
        {
          "output_type": "stream",
          "name": "stdout",
          "text": [
            "\u001b[1mValores únicos:\u001b[0m\n",
            "   Número de valores únicos en la columna 'Sex': 2\n",
            "   Número de valores únicos en la columna 'Embarked': 3\n"
          ]
        }
      ]
    },
    {
      "cell_type": "markdown",
      "source": [
        "#### **Sex: Codificación ordinal manual.**\n",
        "En este caso solo hay 2 valores únicos y vamos a decir lo siguiente:\n",
        "*   Por cada instancia de `male` (hombre), asignaremos el valor **1**.\n",
        "*    Por cada instancia de `female` (mujer), asignaremos el valor **0**.\n",
        "\n"
      ],
      "metadata": {
        "id": "JNvhEKmW0RKn"
      }
    },
    {
      "cell_type": "code",
      "source": [
        "data.groupBy('Sex').count().show() #otra opción sin que muestre la cuenta es con la opción .distinct()"
      ],
      "metadata": {
        "colab": {
          "base_uri": "https://localhost:8080/"
        },
        "id": "fimtT_QXzCBP",
        "outputId": "049055eb-4686-4a59-e8c5-aa3ff03e03ad"
      },
      "execution_count": null,
      "outputs": [
        {
          "output_type": "stream",
          "name": "stdout",
          "text": [
            "+------+-----+\n",
            "|   Sex|count|\n",
            "+------+-----+\n",
            "|female|  312|\n",
            "|  male|  577|\n",
            "+------+-----+\n",
            "\n"
          ]
        }
      ]
    },
    {
      "cell_type": "code",
      "source": [
        "data = data.withColumn('Sex', F.when(data.Sex == \"male\", 1).otherwise(0))"
      ],
      "metadata": {
        "id": "-lHVYHVF0NJy"
      },
      "execution_count": null,
      "outputs": []
    },
    {
      "cell_type": "markdown",
      "source": [
        "#### **Embarked: Codificación ordinal automática, StringIndexer.**\n",
        "Vemos que hay tres valores únicos, a cada uno de ellos se le asignará un número: **0, 1, 2**."
      ],
      "metadata": {
        "id": "zocaizAJ0Uas"
      }
    },
    {
      "cell_type": "code",
      "source": [
        "data.select('Embarked').distinct().show()"
      ],
      "metadata": {
        "colab": {
          "base_uri": "https://localhost:8080/"
        },
        "id": "HpNZ9PDd2Hc4",
        "outputId": "8fba1c96-91ae-4053-a3d7-bdab0f4a6239"
      },
      "execution_count": null,
      "outputs": [
        {
          "output_type": "stream",
          "name": "stdout",
          "text": [
            "+--------+\n",
            "|Embarked|\n",
            "+--------+\n",
            "|       Q|\n",
            "|       C|\n",
            "|       S|\n",
            "+--------+\n",
            "\n"
          ]
        }
      ]
    },
    {
      "cell_type": "code",
      "source": [
        "indexer_model = StringIndexer(inputCol=\"Embarked\", outputCol=\"Embarked_StringIndexer\").fit(data)\n",
        "data = indexer_model.transform(data)"
      ],
      "metadata": {
        "id": "oSgTqny6znXn"
      },
      "execution_count": null,
      "outputs": []
    },
    {
      "cell_type": "code",
      "source": [
        "print(\"\\033[1mAsignación numérica:\\033[0m\")\n",
        "for index, value in enumerate(indexer_model.labels):\n",
        "  print(f'   Por cada instancia de {value}, asignaremos el valor {index}.')"
      ],
      "metadata": {
        "colab": {
          "base_uri": "https://localhost:8080/"
        },
        "id": "itKyTEsh2amp",
        "outputId": "718b8d1e-3327-49b7-ec94-6e1386c8dbfa"
      },
      "execution_count": null,
      "outputs": [
        {
          "output_type": "stream",
          "name": "stdout",
          "text": [
            "\u001b[1mAsignación numérica:\u001b[0m\n",
            "   Por cada instancia de S, asignaremos el valor 0.\n",
            "   Por cada instancia de C, asignaremos el valor 1.\n",
            "   Por cada instancia de Q, asignaremos el valor 2.\n"
          ]
        }
      ]
    },
    {
      "cell_type": "code",
      "source": [
        "# Copia de la nueva columna en la anterior y eliminación de la nueva.\n",
        "data = data.withColumn(\"Embarked\", data[\"Embarked_StringIndexer\"])\n",
        "data = data.drop(\"Embarked_StringIndexer\")\n",
        "data.show(5)"
      ],
      "metadata": {
        "colab": {
          "base_uri": "https://localhost:8080/"
        },
        "id": "1GbPLNP-2Nmx",
        "outputId": "87133f0b-e4b2-4653-fad6-0e11c0f25fc6"
      },
      "execution_count": null,
      "outputs": [
        {
          "output_type": "stream",
          "name": "stdout",
          "text": [
            "+--------+------+---+----+-----+-----+-------+--------+\n",
            "|Survived|Pclass|Sex| Age|SibSp|Parch|   Fare|Embarked|\n",
            "+--------+------+---+----+-----+-----+-------+--------+\n",
            "|       0|     3|  1|22.0|    1|    0|   7.25|     0.0|\n",
            "|       1|     1|  0|38.0|    1|    0|71.2833|     1.0|\n",
            "|       1|     3|  0|26.0|    0|    0|  7.925|     0.0|\n",
            "|       1|     1|  0|35.0|    1|    0|   53.1|     0.0|\n",
            "|       0|     3|  1|35.0|    0|    0|   8.05|     0.0|\n",
            "+--------+------+---+----+-----+-----+-------+--------+\n",
            "only showing top 5 rows\n",
            "\n"
          ]
        }
      ]
    },
    {
      "cell_type": "markdown",
      "source": [
        "Con todo lo realizado, podemos considerar ya el dataset limpio y preparado para su posterior examinación. En caso de necesitarlo, realizaremos una copia."
      ],
      "metadata": {
        "id": "GO8izShC_Vn3"
      }
    },
    {
      "cell_type": "code",
      "source": [
        "df_filter = data.select(*data.columns)"
      ],
      "metadata": {
        "id": "mte7zQYF_g_w"
      },
      "execution_count": null,
      "outputs": []
    },
    {
      "cell_type": "markdown",
      "source": [
        "### Estudio general de los datos.\n",
        "Antes de la realización de los modelos haremos un análisis genérico para la comprensión de qué características estuvieron asociadas con la supervivencia de las personas en el Titanic."
      ],
      "metadata": {
        "id": "1zMk_HR25ISK"
      }
    },
    {
      "cell_type": "code",
      "source": [
        "data.describe().show()"
      ],
      "metadata": {
        "id": "caO6KDFVop2b",
        "colab": {
          "base_uri": "https://localhost:8080/"
        },
        "outputId": "6f2acc49-8414-4eea-f019-54f2d89addbe"
      },
      "execution_count": null,
      "outputs": [
        {
          "output_type": "stream",
          "name": "stdout",
          "text": [
            "+-------+-------------------+------------------+-------------------+------------------+------------------+-------------------+-----------------+-------------------+\n",
            "|summary|           Survived|            Pclass|                Sex|               Age|             SibSp|              Parch|             Fare|           Embarked|\n",
            "+-------+-------------------+------------------+-------------------+------------------+------------------+-------------------+-----------------+-------------------+\n",
            "|  count|                889|               889|                889|               889|               889|                889|              889|                889|\n",
            "|   mean|0.38245219347581555|2.3115860517435323| 0.6490438695163104|29.315151856017994|0.5241844769403825|0.38245219347581555|32.09668087739029|0.36220472440944884|\n",
            "| stddev|0.48625968831477334|0.8346997785705753|0.47753789445536743|12.984932293690775| 1.103704875596923| 0.8067607445174785|49.69750431670795| 0.6361572404817025|\n",
            "|    min|                  0|                 1|                  0|              0.42|                 0|                  0|              0.0|                0.0|\n",
            "|    max|                  1|                 3|                  1|              80.0|                 8|                  6|         512.3292|                2.0|\n",
            "+-------+-------------------+------------------+-------------------+------------------+------------------+-------------------+-----------------+-------------------+\n",
            "\n"
          ]
        }
      ]
    },
    {
      "cell_type": "markdown",
      "source": [
        "En cuanto a la **media** concluimos que alrededor del 38% de los pasajeros sobrevivieron. Su desviación estándar sugiere una alta variabilidad de los datos.\n"
      ],
      "metadata": {
        "id": "lSbwtXvyofJm"
      }
    },
    {
      "cell_type": "code",
      "source": [
        "data.groupBy('Survived').count().show()"
      ],
      "metadata": {
        "colab": {
          "base_uri": "https://localhost:8080/"
        },
        "id": "Osy7hBpHsH9l",
        "outputId": "c6f705c3-c5ce-4362-8d8a-2eb0f109a864"
      },
      "execution_count": null,
      "outputs": [
        {
          "output_type": "stream",
          "name": "stdout",
          "text": [
            "+--------+-----+\n",
            "|Survived|count|\n",
            "+--------+-----+\n",
            "|       1|  340|\n",
            "|       0|  549|\n",
            "+--------+-----+\n",
            "\n"
          ]
        }
      ]
    },
    {
      "cell_type": "markdown",
      "source": [
        "Se observa una disparidad significativa en la cantidad de datos entre las dos clases de la variable objetivo. Para abordar este desequilibrio y evitar que el modelo se sesgue hacia la clase mayoritaria, se deberia de realizar un `OverSampling` o  **sobremuestreo**. Esto implica generar datos para la clase minoritaria de forma aleatoria basándose en los datos pasados,aumentando así su representación y equilibrando la distribución de clases."
      ],
      "metadata": {
        "id": "t0CVyyCdsW0n"
      }
    },
    {
      "cell_type": "markdown",
      "source": [
        "#### **Matriz de correlación.**\n",
        "La matriz de correlación permite mostrar las relaciones de todas las variables del dataframe entre ellas. Una buena relación se considera cercana a +-1. Si comparamos según nuestra variable dependiente `Survived` vemos que el género de la persona influyó en si sobrevive o no por ser superior al 50%."
      ],
      "metadata": {
        "id": "VdhJtI7ZlCJ7"
      }
    },
    {
      "cell_type": "code",
      "source": [
        "data.toPandas().corr(method='pearson')"
      ],
      "metadata": {
        "colab": {
          "base_uri": "https://localhost:8080/",
          "height": 300
        },
        "id": "cor8XMGRk9gd",
        "outputId": "046d7091-82cc-4ace-8ea4-4480330ff7f7"
      },
      "execution_count": null,
      "outputs": [
        {
          "output_type": "execute_result",
          "data": {
            "text/plain": [
              "          Survived    Pclass       Sex       Age     SibSp     Parch  \\\n",
              "Survived  1.000000 -0.335549 -0.541585 -0.069822 -0.034040  0.083151   \n",
              "Pclass   -0.335549  1.000000  0.127741 -0.336512  0.081656  0.016824   \n",
              "Sex      -0.541585  0.127741  1.000000  0.086506 -0.116348 -0.247508   \n",
              "Age      -0.069822 -0.336512  0.086506  1.000000 -0.232543 -0.171485   \n",
              "SibSp    -0.034040  0.081656 -0.116348 -0.232543  1.000000  0.414542   \n",
              "Parch     0.083151  0.016824 -0.247508 -0.171485  0.414542  1.000000   \n",
              "Fare      0.255290 -0.548193 -0.179958  0.093707  0.160887  0.217532   \n",
              "Embarked  0.108669  0.043835 -0.118593 -0.007165 -0.060606 -0.079320   \n",
              "\n",
              "              Fare  Embarked  \n",
              "Survived  0.255290  0.108669  \n",
              "Pclass   -0.548193  0.043835  \n",
              "Sex      -0.179958 -0.118593  \n",
              "Age       0.093707 -0.007165  \n",
              "SibSp     0.160887 -0.060606  \n",
              "Parch     0.217532 -0.079320  \n",
              "Fare      1.000000  0.063462  \n",
              "Embarked  0.063462  1.000000  "
            ],
            "text/html": [
              "\n",
              "  <div id=\"df-c0b70d06-c155-4724-bc3a-7f9bdd7755f0\" class=\"colab-df-container\">\n",
              "    <div>\n",
              "<style scoped>\n",
              "    .dataframe tbody tr th:only-of-type {\n",
              "        vertical-align: middle;\n",
              "    }\n",
              "\n",
              "    .dataframe tbody tr th {\n",
              "        vertical-align: top;\n",
              "    }\n",
              "\n",
              "    .dataframe thead th {\n",
              "        text-align: right;\n",
              "    }\n",
              "</style>\n",
              "<table border=\"1\" class=\"dataframe\">\n",
              "  <thead>\n",
              "    <tr style=\"text-align: right;\">\n",
              "      <th></th>\n",
              "      <th>Survived</th>\n",
              "      <th>Pclass</th>\n",
              "      <th>Sex</th>\n",
              "      <th>Age</th>\n",
              "      <th>SibSp</th>\n",
              "      <th>Parch</th>\n",
              "      <th>Fare</th>\n",
              "      <th>Embarked</th>\n",
              "    </tr>\n",
              "  </thead>\n",
              "  <tbody>\n",
              "    <tr>\n",
              "      <th>Survived</th>\n",
              "      <td>1.000000</td>\n",
              "      <td>-0.335549</td>\n",
              "      <td>-0.541585</td>\n",
              "      <td>-0.069822</td>\n",
              "      <td>-0.034040</td>\n",
              "      <td>0.083151</td>\n",
              "      <td>0.255290</td>\n",
              "      <td>0.108669</td>\n",
              "    </tr>\n",
              "    <tr>\n",
              "      <th>Pclass</th>\n",
              "      <td>-0.335549</td>\n",
              "      <td>1.000000</td>\n",
              "      <td>0.127741</td>\n",
              "      <td>-0.336512</td>\n",
              "      <td>0.081656</td>\n",
              "      <td>0.016824</td>\n",
              "      <td>-0.548193</td>\n",
              "      <td>0.043835</td>\n",
              "    </tr>\n",
              "    <tr>\n",
              "      <th>Sex</th>\n",
              "      <td>-0.541585</td>\n",
              "      <td>0.127741</td>\n",
              "      <td>1.000000</td>\n",
              "      <td>0.086506</td>\n",
              "      <td>-0.116348</td>\n",
              "      <td>-0.247508</td>\n",
              "      <td>-0.179958</td>\n",
              "      <td>-0.118593</td>\n",
              "    </tr>\n",
              "    <tr>\n",
              "      <th>Age</th>\n",
              "      <td>-0.069822</td>\n",
              "      <td>-0.336512</td>\n",
              "      <td>0.086506</td>\n",
              "      <td>1.000000</td>\n",
              "      <td>-0.232543</td>\n",
              "      <td>-0.171485</td>\n",
              "      <td>0.093707</td>\n",
              "      <td>-0.007165</td>\n",
              "    </tr>\n",
              "    <tr>\n",
              "      <th>SibSp</th>\n",
              "      <td>-0.034040</td>\n",
              "      <td>0.081656</td>\n",
              "      <td>-0.116348</td>\n",
              "      <td>-0.232543</td>\n",
              "      <td>1.000000</td>\n",
              "      <td>0.414542</td>\n",
              "      <td>0.160887</td>\n",
              "      <td>-0.060606</td>\n",
              "    </tr>\n",
              "    <tr>\n",
              "      <th>Parch</th>\n",
              "      <td>0.083151</td>\n",
              "      <td>0.016824</td>\n",
              "      <td>-0.247508</td>\n",
              "      <td>-0.171485</td>\n",
              "      <td>0.414542</td>\n",
              "      <td>1.000000</td>\n",
              "      <td>0.217532</td>\n",
              "      <td>-0.079320</td>\n",
              "    </tr>\n",
              "    <tr>\n",
              "      <th>Fare</th>\n",
              "      <td>0.255290</td>\n",
              "      <td>-0.548193</td>\n",
              "      <td>-0.179958</td>\n",
              "      <td>0.093707</td>\n",
              "      <td>0.160887</td>\n",
              "      <td>0.217532</td>\n",
              "      <td>1.000000</td>\n",
              "      <td>0.063462</td>\n",
              "    </tr>\n",
              "    <tr>\n",
              "      <th>Embarked</th>\n",
              "      <td>0.108669</td>\n",
              "      <td>0.043835</td>\n",
              "      <td>-0.118593</td>\n",
              "      <td>-0.007165</td>\n",
              "      <td>-0.060606</td>\n",
              "      <td>-0.079320</td>\n",
              "      <td>0.063462</td>\n",
              "      <td>1.000000</td>\n",
              "    </tr>\n",
              "  </tbody>\n",
              "</table>\n",
              "</div>\n",
              "    <div class=\"colab-df-buttons\">\n",
              "\n",
              "  <div class=\"colab-df-container\">\n",
              "    <button class=\"colab-df-convert\" onclick=\"convertToInteractive('df-c0b70d06-c155-4724-bc3a-7f9bdd7755f0')\"\n",
              "            title=\"Convert this dataframe to an interactive table.\"\n",
              "            style=\"display:none;\">\n",
              "\n",
              "  <svg xmlns=\"http://www.w3.org/2000/svg\" height=\"24px\" viewBox=\"0 -960 960 960\">\n",
              "    <path d=\"M120-120v-720h720v720H120Zm60-500h600v-160H180v160Zm220 220h160v-160H400v160Zm0 220h160v-160H400v160ZM180-400h160v-160H180v160Zm440 0h160v-160H620v160ZM180-180h160v-160H180v160Zm440 0h160v-160H620v160Z\"/>\n",
              "  </svg>\n",
              "    </button>\n",
              "\n",
              "  <style>\n",
              "    .colab-df-container {\n",
              "      display:flex;\n",
              "      gap: 12px;\n",
              "    }\n",
              "\n",
              "    .colab-df-convert {\n",
              "      background-color: #E8F0FE;\n",
              "      border: none;\n",
              "      border-radius: 50%;\n",
              "      cursor: pointer;\n",
              "      display: none;\n",
              "      fill: #1967D2;\n",
              "      height: 32px;\n",
              "      padding: 0 0 0 0;\n",
              "      width: 32px;\n",
              "    }\n",
              "\n",
              "    .colab-df-convert:hover {\n",
              "      background-color: #E2EBFA;\n",
              "      box-shadow: 0px 1px 2px rgba(60, 64, 67, 0.3), 0px 1px 3px 1px rgba(60, 64, 67, 0.15);\n",
              "      fill: #174EA6;\n",
              "    }\n",
              "\n",
              "    .colab-df-buttons div {\n",
              "      margin-bottom: 4px;\n",
              "    }\n",
              "\n",
              "    [theme=dark] .colab-df-convert {\n",
              "      background-color: #3B4455;\n",
              "      fill: #D2E3FC;\n",
              "    }\n",
              "\n",
              "    [theme=dark] .colab-df-convert:hover {\n",
              "      background-color: #434B5C;\n",
              "      box-shadow: 0px 1px 3px 1px rgba(0, 0, 0, 0.15);\n",
              "      filter: drop-shadow(0px 1px 2px rgba(0, 0, 0, 0.3));\n",
              "      fill: #FFFFFF;\n",
              "    }\n",
              "  </style>\n",
              "\n",
              "    <script>\n",
              "      const buttonEl =\n",
              "        document.querySelector('#df-c0b70d06-c155-4724-bc3a-7f9bdd7755f0 button.colab-df-convert');\n",
              "      buttonEl.style.display =\n",
              "        google.colab.kernel.accessAllowed ? 'block' : 'none';\n",
              "\n",
              "      async function convertToInteractive(key) {\n",
              "        const element = document.querySelector('#df-c0b70d06-c155-4724-bc3a-7f9bdd7755f0');\n",
              "        const dataTable =\n",
              "          await google.colab.kernel.invokeFunction('convertToInteractive',\n",
              "                                                    [key], {});\n",
              "        if (!dataTable) return;\n",
              "\n",
              "        const docLinkHtml = 'Like what you see? Visit the ' +\n",
              "          '<a target=\"_blank\" href=https://colab.research.google.com/notebooks/data_table.ipynb>data table notebook</a>'\n",
              "          + ' to learn more about interactive tables.';\n",
              "        element.innerHTML = '';\n",
              "        dataTable['output_type'] = 'display_data';\n",
              "        await google.colab.output.renderOutput(dataTable, element);\n",
              "        const docLink = document.createElement('div');\n",
              "        docLink.innerHTML = docLinkHtml;\n",
              "        element.appendChild(docLink);\n",
              "      }\n",
              "    </script>\n",
              "  </div>\n",
              "\n",
              "\n",
              "<div id=\"df-faad56b1-a099-41f7-a1a5-21d153073ef2\">\n",
              "  <button class=\"colab-df-quickchart\" onclick=\"quickchart('df-faad56b1-a099-41f7-a1a5-21d153073ef2')\"\n",
              "            title=\"Suggest charts\"\n",
              "            style=\"display:none;\">\n",
              "\n",
              "<svg xmlns=\"http://www.w3.org/2000/svg\" height=\"24px\"viewBox=\"0 0 24 24\"\n",
              "     width=\"24px\">\n",
              "    <g>\n",
              "        <path d=\"M19 3H5c-1.1 0-2 .9-2 2v14c0 1.1.9 2 2 2h14c1.1 0 2-.9 2-2V5c0-1.1-.9-2-2-2zM9 17H7v-7h2v7zm4 0h-2V7h2v10zm4 0h-2v-4h2v4z\"/>\n",
              "    </g>\n",
              "</svg>\n",
              "  </button>\n",
              "\n",
              "<style>\n",
              "  .colab-df-quickchart {\n",
              "      --bg-color: #E8F0FE;\n",
              "      --fill-color: #1967D2;\n",
              "      --hover-bg-color: #E2EBFA;\n",
              "      --hover-fill-color: #174EA6;\n",
              "      --disabled-fill-color: #AAA;\n",
              "      --disabled-bg-color: #DDD;\n",
              "  }\n",
              "\n",
              "  [theme=dark] .colab-df-quickchart {\n",
              "      --bg-color: #3B4455;\n",
              "      --fill-color: #D2E3FC;\n",
              "      --hover-bg-color: #434B5C;\n",
              "      --hover-fill-color: #FFFFFF;\n",
              "      --disabled-bg-color: #3B4455;\n",
              "      --disabled-fill-color: #666;\n",
              "  }\n",
              "\n",
              "  .colab-df-quickchart {\n",
              "    background-color: var(--bg-color);\n",
              "    border: none;\n",
              "    border-radius: 50%;\n",
              "    cursor: pointer;\n",
              "    display: none;\n",
              "    fill: var(--fill-color);\n",
              "    height: 32px;\n",
              "    padding: 0;\n",
              "    width: 32px;\n",
              "  }\n",
              "\n",
              "  .colab-df-quickchart:hover {\n",
              "    background-color: var(--hover-bg-color);\n",
              "    box-shadow: 0 1px 2px rgba(60, 64, 67, 0.3), 0 1px 3px 1px rgba(60, 64, 67, 0.15);\n",
              "    fill: var(--button-hover-fill-color);\n",
              "  }\n",
              "\n",
              "  .colab-df-quickchart-complete:disabled,\n",
              "  .colab-df-quickchart-complete:disabled:hover {\n",
              "    background-color: var(--disabled-bg-color);\n",
              "    fill: var(--disabled-fill-color);\n",
              "    box-shadow: none;\n",
              "  }\n",
              "\n",
              "  .colab-df-spinner {\n",
              "    border: 2px solid var(--fill-color);\n",
              "    border-color: transparent;\n",
              "    border-bottom-color: var(--fill-color);\n",
              "    animation:\n",
              "      spin 1s steps(1) infinite;\n",
              "  }\n",
              "\n",
              "  @keyframes spin {\n",
              "    0% {\n",
              "      border-color: transparent;\n",
              "      border-bottom-color: var(--fill-color);\n",
              "      border-left-color: var(--fill-color);\n",
              "    }\n",
              "    20% {\n",
              "      border-color: transparent;\n",
              "      border-left-color: var(--fill-color);\n",
              "      border-top-color: var(--fill-color);\n",
              "    }\n",
              "    30% {\n",
              "      border-color: transparent;\n",
              "      border-left-color: var(--fill-color);\n",
              "      border-top-color: var(--fill-color);\n",
              "      border-right-color: var(--fill-color);\n",
              "    }\n",
              "    40% {\n",
              "      border-color: transparent;\n",
              "      border-right-color: var(--fill-color);\n",
              "      border-top-color: var(--fill-color);\n",
              "    }\n",
              "    60% {\n",
              "      border-color: transparent;\n",
              "      border-right-color: var(--fill-color);\n",
              "    }\n",
              "    80% {\n",
              "      border-color: transparent;\n",
              "      border-right-color: var(--fill-color);\n",
              "      border-bottom-color: var(--fill-color);\n",
              "    }\n",
              "    90% {\n",
              "      border-color: transparent;\n",
              "      border-bottom-color: var(--fill-color);\n",
              "    }\n",
              "  }\n",
              "</style>\n",
              "\n",
              "  <script>\n",
              "    async function quickchart(key) {\n",
              "      const quickchartButtonEl =\n",
              "        document.querySelector('#' + key + ' button');\n",
              "      quickchartButtonEl.disabled = true;  // To prevent multiple clicks.\n",
              "      quickchartButtonEl.classList.add('colab-df-spinner');\n",
              "      try {\n",
              "        const charts = await google.colab.kernel.invokeFunction(\n",
              "            'suggestCharts', [key], {});\n",
              "      } catch (error) {\n",
              "        console.error('Error during call to suggestCharts:', error);\n",
              "      }\n",
              "      quickchartButtonEl.classList.remove('colab-df-spinner');\n",
              "      quickchartButtonEl.classList.add('colab-df-quickchart-complete');\n",
              "    }\n",
              "    (() => {\n",
              "      let quickchartButtonEl =\n",
              "        document.querySelector('#df-faad56b1-a099-41f7-a1a5-21d153073ef2 button');\n",
              "      quickchartButtonEl.style.display =\n",
              "        google.colab.kernel.accessAllowed ? 'block' : 'none';\n",
              "    })();\n",
              "  </script>\n",
              "</div>\n",
              "    </div>\n",
              "  </div>\n"
            ],
            "application/vnd.google.colaboratory.intrinsic+json": {
              "type": "dataframe",
              "summary": "{\n  \"name\": \"data\",\n  \"rows\": 8,\n  \"fields\": [\n    {\n      \"column\": \"Survived\",\n      \"properties\": {\n        \"dtype\": \"number\",\n        \"std\": 0.45805167665409147,\n        \"min\": -0.5415849155511682,\n        \"max\": 1.0,\n        \"num_unique_values\": 8,\n        \"samples\": [\n          -0.33554885935682505,\n          0.08315078366620224,\n          1.0\n        ],\n        \"semantic_type\": \"\",\n        \"description\": \"\"\n      }\n    },\n    {\n      \"column\": \"Pclass\",\n      \"properties\": {\n        \"dtype\": \"number\",\n        \"std\": 0.4707485313898511,\n        \"min\": -0.5481932852366449,\n        \"max\": 1.0,\n        \"num_unique_values\": 8,\n        \"samples\": [\n          1.0,\n          0.01682449383776425,\n          -0.33554885935682505\n        ],\n        \"semantic_type\": \"\",\n        \"description\": \"\"\n      }\n    },\n    {\n      \"column\": \"Sex\",\n      \"properties\": {\n        \"dtype\": \"number\",\n        \"std\": 0.4532971412195341,\n        \"min\": -0.5415849155511682,\n        \"max\": 1.0,\n        \"num_unique_values\": 8,\n        \"samples\": [\n          0.127740900188414,\n          -0.2475079815857048,\n          -0.5415849155511682\n        ],\n        \"semantic_type\": \"\",\n        \"description\": \"\"\n      }\n    },\n    {\n      \"column\": \"Age\",\n      \"properties\": {\n        \"dtype\": \"number\",\n        \"std\": 0.41429322283751674,\n        \"min\": -0.3365121763862815,\n        \"max\": 1.0,\n        \"num_unique_values\": 8,\n        \"samples\": [\n          -0.3365121763862815,\n          -0.1714850795047853,\n          -0.0698217076789191\n        ],\n        \"semantic_type\": \"\",\n        \"description\": \"\"\n      }\n    },\n    {\n      \"column\": \"SibSp\",\n      \"properties\": {\n        \"dtype\": \"number\",\n        \"std\": 0.3951049214739985,\n        \"min\": -0.23254340935122556,\n        \"max\": 1.0,\n        \"num_unique_values\": 8,\n        \"samples\": [\n          0.0816556213479137,\n          0.4145416380997264,\n          -0.03403999879674893\n        ],\n        \"semantic_type\": \"\",\n        \"description\": \"\"\n      }\n    },\n    {\n      \"column\": \"Parch\",\n      \"properties\": {\n        \"dtype\": \"number\",\n        \"std\": 0.4023250152298922,\n        \"min\": -0.2475079815857048,\n        \"max\": 1.0,\n        \"num_unique_values\": 8,\n        \"samples\": [\n          0.01682449383776425,\n          1.0,\n          0.08315078366620224\n        ],\n        \"semantic_type\": \"\",\n        \"description\": \"\"\n      }\n    },\n    {\n      \"column\": \"Fare\",\n      \"properties\": {\n        \"dtype\": \"number\",\n        \"std\": 0.43800085086649354,\n        \"min\": -0.5481932852366449,\n        \"max\": 1.0,\n        \"num_unique_values\": 8,\n        \"samples\": [\n          -0.5481932852366449,\n          0.21753204448353225,\n          0.2552904613046992\n        ],\n        \"semantic_type\": \"\",\n        \"description\": \"\"\n      }\n    },\n    {\n      \"column\": \"Embarked\",\n      \"properties\": {\n        \"dtype\": \"number\",\n        \"std\": 0.36429161195895354,\n        \"min\": -0.11859266289411174,\n        \"max\": 1.0,\n        \"num_unique_values\": 8,\n        \"samples\": [\n          0.04383468077977327,\n          -0.07931975670461353,\n          0.10866867101787425\n        ],\n        \"semantic_type\": \"\",\n        \"description\": \"\"\n      }\n    }\n  ]\n}"
            }
          },
          "metadata": {},
          "execution_count": 294
        }
      ]
    },
    {
      "cell_type": "code",
      "source": [
        "data.groupBy(\"Sex\").count().show()"
      ],
      "metadata": {
        "colab": {
          "base_uri": "https://localhost:8080/"
        },
        "id": "tc4_ojFkFxRe",
        "outputId": "76c4a1d7-2435-470a-dc46-2c52df1a4fea"
      },
      "execution_count": null,
      "outputs": [
        {
          "output_type": "stream",
          "name": "stdout",
          "text": [
            "+---+-----+\n",
            "|Sex|count|\n",
            "+---+-----+\n",
            "|  1|  577|\n",
            "|  0|  312|\n",
            "+---+-----+\n",
            "\n"
          ]
        }
      ]
    },
    {
      "cell_type": "code",
      "source": [
        "data.groupBy(\"Sex\").agg({\"Survived\": \"mean\"}).show()"
      ],
      "metadata": {
        "id": "vvrC1w6TggwR",
        "colab": {
          "base_uri": "https://localhost:8080/"
        },
        "outputId": "0136125e-3184-46b1-ab6f-5199ede01af7"
      },
      "execution_count": null,
      "outputs": [
        {
          "output_type": "stream",
          "name": "stdout",
          "text": [
            "+---+-------------------+\n",
            "|Sex|      avg(Survived)|\n",
            "+---+-------------------+\n",
            "|  1|0.18890814558058924|\n",
            "|  0| 0.7403846153846154|\n",
            "+---+-------------------+\n",
            "\n"
          ]
        }
      ]
    },
    {
      "cell_type": "markdown",
      "source": [
        "La diferencia de medias sugiere que hubo una tendencia mucho mayor para que las mujeres (`female == 0`) sobrevivieran en comparación con los hombres.\n",
        "\n",
        "Si se compara con su correlación sacamos al misma conclusión, ya que esta es negativa. El ser negativa indica una lrelación lineal negativa, es decir, que existe una tendencia a que las personas con un valor más bajo tengan una mayor probabilidad de supervivencia en comparación con aquellas con un valor más alto."
      ],
      "metadata": {
        "id": "RSrVg0HCC9gO"
      }
    },
    {
      "cell_type": "code",
      "source": [
        "data.groupBy(\"SibSp\").agg({\"Survived\": \"mean\"}).orderBy(data[\"SibSp\"].asc()).show() #orden ascendente"
      ],
      "metadata": {
        "colab": {
          "base_uri": "https://localhost:8080/"
        },
        "id": "osbLlN87jMw_",
        "outputId": "3629ea07-1e98-4f39-e829-fde4f0a4d1b6"
      },
      "execution_count": null,
      "outputs": [
        {
          "output_type": "stream",
          "name": "stdout",
          "text": [
            "+-----+-------------------+\n",
            "|SibSp|      avg(Survived)|\n",
            "+-----+-------------------+\n",
            "|    0| 0.3432343234323432|\n",
            "|    1| 0.5358851674641149|\n",
            "|    2| 0.4642857142857143|\n",
            "|    3|               0.25|\n",
            "|    4|0.16666666666666666|\n",
            "|    5|                0.0|\n",
            "|    8|                0.0|\n",
            "+-----+-------------------+\n",
            "\n"
          ]
        }
      ]
    },
    {
      "cell_type": "markdown",
      "source": [
        "La columna `SibSp` muestra el número de hermanos/cónyuges a bordo. A partir de la matriz de correlación vemos que no hay una relación lineal fuerte (no que no exista) entre esta y `Survived`. Si analizamos la tabla anterior obtenemos que tienen tendencia a sobrevivir las personas que como máximo tienen a bordo 2 cónyuges y hermanos."
      ],
      "metadata": {
        "id": "41HraFjiGx5X"
      }
    },
    {
      "cell_type": "code",
      "source": [
        "data.groupBy(\"Parch\").agg({\"Survived\": \"mean\"}).orderBy(data[\"Parch\"].asc()).show()"
      ],
      "metadata": {
        "colab": {
          "base_uri": "https://localhost:8080/"
        },
        "id": "YhPuyWOZjUEi",
        "outputId": "f746d7a7-2ff2-47a3-f5d5-c04dfb21386b"
      },
      "execution_count": null,
      "outputs": [
        {
          "output_type": "stream",
          "name": "stdout",
          "text": [
            "+-----+-------------------+\n",
            "|Parch|      avg(Survived)|\n",
            "+-----+-------------------+\n",
            "|    0|0.34171597633136097|\n",
            "|    1| 0.5508474576271186|\n",
            "|    2|                0.5|\n",
            "|    3|                0.6|\n",
            "|    4|                0.0|\n",
            "|    5|                0.2|\n",
            "|    6|                0.0|\n",
            "+-----+-------------------+\n",
            "\n"
          ]
        }
      ]
    },
    {
      "cell_type": "markdown",
      "source": [
        "En `Parch` se muestra el número de padres/hijos a bordo. A partir de la tabla vemos que tienen una tasa de superviviencia más alta las personas con 1,2 o 3 padres e hijos a bordo.\n",
        "\n",
        "Esto sugiere que el número de padres/hijos a bordo puede haber influido en las posibilidades de supervivencia, con tasas de supervivencia más altas para aquellos que tenían un número moderado de compañeros de viaje.\n",
        "\n",
        "Sin embargo la correlación de `Parch` respecto a la variable dependiente es cercana a cero, indicando que no hay una relación lineal fuerte (no que no exista) entre estas."
      ],
      "metadata": {
        "id": "tooLeaTwI_Y0"
      }
    },
    {
      "cell_type": "markdown",
      "source": [
        "## Realización de los modelos de clasificación binaria.\n",
        "A continuación para no repetir el código, pondremos los datos que tienen en común todas ellas. La variable dependiente es\n",
        "```Survived```.\n",
        "\n"
      ],
      "metadata": {
        "id": "BRD9aDnlCXUV"
      }
    },
    {
      "cell_type": "code",
      "source": [
        "depent_cols = 'Survived'"
      ],
      "metadata": {
        "id": "2Jw8MrPCDvRb"
      },
      "execution_count": null,
      "outputs": []
    },
    {
      "cell_type": "code",
      "source": [
        "feature_cols = [col for col in data.columns if col != depent_cols] # Variables independientes."
      ],
      "metadata": {
        "id": "MY1eQSdACU5c"
      },
      "execution_count": null,
      "outputs": []
    },
    {
      "cell_type": "markdown",
      "source": [
        "Primero para no modificar el dataset, lo copiaremos y modificaremos la copia."
      ],
      "metadata": {
        "id": "yjvqOV4YkKTQ"
      }
    },
    {
      "cell_type": "code",
      "source": [
        "df = data.select(*data.columns)"
      ],
      "metadata": {
        "id": "TJvV6urfDebE"
      },
      "execution_count": null,
      "outputs": []
    },
    {
      "cell_type": "code",
      "source": [
        "assembler = VectorAssembler(inputCols=feature_cols,\n",
        "                            outputCol=\"features\")\n",
        "df = assembler.transform(df)"
      ],
      "metadata": {
        "id": "obBIjmTWk9_g"
      },
      "execution_count": null,
      "outputs": []
    },
    {
      "cell_type": "markdown",
      "source": [
        "Mediante el `MinMaxScaler` transformamos las características escalándolas a un rango dado, por defecto (0,1). Este se utiliza para mejorar el modelo en caso de tener funciones con rangos muy diferentes y querer escalarlas a un rango común."
      ],
      "metadata": {
        "id": "7zM7dvOGk4KB"
      }
    },
    {
      "cell_type": "code",
      "source": [
        "scaler = MinMaxScaler(inputCol=\"features\", outputCol=\"scaled_features\")\n",
        "pipeline = Pipeline(stages=[scaler])\n",
        "scalerModel = pipeline.fit(df)\n",
        "scaledData = scalerModel.transform(df)"
      ],
      "metadata": {
        "id": "0L4e-ZrBDVZq"
      },
      "execution_count": null,
      "outputs": []
    },
    {
      "cell_type": "markdown",
      "source": [
        "Hemos dividido los datos en un 80% para el entrenamiento y un 20% para el test.`Seed` permite establecer una semilla para la generación de números aleatorios, lo que asegura que cada vez que se ejecute este código, la división sea consistente. Este valor va desde 0 hasta 100."
      ],
      "metadata": {
        "id": "doXGssbmlF11"
      }
    },
    {
      "cell_type": "code",
      "source": [
        "train_data, test_data = scaledData.randomSplit([0.8, 0.2], seed=61)"
      ],
      "metadata": {
        "id": "Zpt7uPFRlGIg"
      },
      "execution_count": null,
      "outputs": []
    },
    {
      "cell_type": "markdown",
      "source": [
        "### Árbol de decisión.\n",
        "El árbol de decisión se trata de un modelo de clasificación binaria que representa decisiones y sus resultados en forma de gráfico de tipo árbol. Cada nodo representa una pregunta, cada rama una posible respuesta, y cada hoja una conclusión.\n",
        "\n",
        "Los inputs necesarios para la realización de `DecisionTreeClassifier` son:\n",
        "  - `labelCol`: De tipo *double*, es decir, decimal.\n",
        "  - `featuresCol`: Este debe de ser un vector con las variables independientes."
      ],
      "metadata": {
        "id": "Ty-dyOEg_-ML"
      }
    },
    {
      "cell_type": "code",
      "source": [
        "dt = DecisionTreeClassifier(labelCol=depent_cols,\n",
        "                            featuresCol=\"scaled_features\")\n",
        "dtModel = dt.fit(train_data)"
      ],
      "metadata": {
        "id": "p--TAWFfF2iB"
      },
      "execution_count": null,
      "outputs": []
    },
    {
      "cell_type": "markdown",
      "source": [
        "La función `featureImportances` devuelve un vector disperso con la siguiente información: primero el número de variables independientes utilizadas; entre llaves se trata de un diccionario dónde la clave es el índice de una característica y el valor indica la importancia de esa característica en el modelo. A partir de ello, se puede saber cuánto contribuye cada característica a las decisiones de clasificación."
      ],
      "metadata": {
        "id": "kTU8JQMRs-mD"
      }
    },
    {
      "cell_type": "code",
      "source": [
        "dtModel.featureImportances"
      ],
      "metadata": {
        "colab": {
          "base_uri": "https://localhost:8080/"
        },
        "id": "VbCOZu2opzRJ",
        "outputId": "9b924914-3fe2-4472-9da0-6ba8d3a506bc"
      },
      "execution_count": null,
      "outputs": [
        {
          "output_type": "execute_result",
          "data": {
            "text/plain": [
              "SparseVector(7, {0: 0.1467, 1: 0.5875, 2: 0.0847, 3: 0.0602, 4: 0.0206, 5: 0.1003})"
            ]
          },
          "metadata": {},
          "execution_count": 306
        }
      ]
    },
    {
      "cell_type": "code",
      "source": [
        "print(dtModel)"
      ],
      "metadata": {
        "colab": {
          "base_uri": "https://localhost:8080/"
        },
        "id": "PxDZxzh5sMmR",
        "outputId": "9a9dc8d2-531d-43d0-8308-3ed607a0a49c"
      },
      "execution_count": null,
      "outputs": [
        {
          "output_type": "stream",
          "name": "stdout",
          "text": [
            "DecisionTreeClassificationModel: uid=DecisionTreeClassifier_4b0218608f1b, depth=5, numNodes=29, numClasses=2, numFeatures=7\n"
          ]
        }
      ]
    },
    {
      "cell_type": "markdown",
      "source": [
        "Su predicción devuelve tres nuevas columnas:\n",
        "  - `rawPrediction`: De tipo vector, tiene la longitud del número de clases de la variable dependiente. Cada valor en el vector cuenta cuántas veces aparece cada categoría entre los datos de entrenamiento que llegaron a ese punto del árbol.\n",
        "  - `probability`: De tipo vector, tiene la longitud del número de clases de la variable dependiente. Normalizado a una distribución multinomial.\n",
        "  - `prediction`: De tipo *double*, es decir, decimal. Columna predictora. Predice la columna dependiente. Del vector de probabilidad, el que mayor tenga es la predicción."
      ],
      "metadata": {
        "id": "5K3bBQ-Oru_N"
      }
    },
    {
      "cell_type": "code",
      "source": [
        "predictions = dtModel.transform(test_data)\n",
        "\n",
        "evaluator = MulticlassClassificationEvaluator(labelCol=depent_cols, predictionCol=\"prediction\", metricName=\"accuracy\")\n",
        "accuracy_dt = evaluator.evaluate(predictions)"
      ],
      "metadata": {
        "id": "R_8QH8r_F2fL"
      },
      "execution_count": null,
      "outputs": []
    },
    {
      "cell_type": "code",
      "source": [
        "predictions.show(7)"
      ],
      "metadata": {
        "colab": {
          "base_uri": "https://localhost:8080/"
        },
        "id": "uMt0H0cJF2bl",
        "outputId": "7d001e46-b4c1-4b9e-9ab5-6236f5ad6faa"
      },
      "execution_count": null,
      "outputs": [
        {
          "output_type": "stream",
          "name": "stdout",
          "text": [
            "+--------+------+---+----+-----+-----+--------+--------+--------------------+--------------------+-------------+--------------------+----------+\n",
            "|Survived|Pclass|Sex| Age|SibSp|Parch|    Fare|Embarked|            features|     scaled_features|rawPrediction|         probability|prediction|\n",
            "+--------+------+---+----+-----+-----+--------+--------+--------------------+--------------------+-------------+--------------------+----------+\n",
            "|       0|     1|  1|27.0|    0|    2|   211.5|     1.0|[1.0,1.0,27.0,0.0...|[0.0,1.0,0.334003...|   [27.0,4.0]|[0.87096774193548...|       0.0|\n",
            "|       0|     1|  1|28.0|    0|    0| 27.7208|     1.0|[1.0,1.0,28.0,0.0...|[0.0,1.0,0.346569...|  [48.0,29.0]|[0.62337662337662...|       0.0|\n",
            "|       0|     1|  1|28.0|    0|    0| 30.6958|     1.0|[1.0,1.0,28.0,0.0...|[0.0,1.0,0.346569...|  [48.0,29.0]|[0.62337662337662...|       0.0|\n",
            "|       0|     1|  1|28.0|    0|    0|    42.4|     0.0|[1.0,1.0,28.0,0.0...|(7,[1,2,5],[1.0,0...|  [48.0,29.0]|[0.62337662337662...|       0.0|\n",
            "|       0|     1|  1|28.0|    0|    0|221.7792|     0.0|[1.0,1.0,28.0,0.0...|(7,[1,2,5],[1.0,0...|  [48.0,29.0]|[0.62337662337662...|       0.0|\n",
            "|       0|     1|  1|31.0|    0|    0| 50.4958|     0.0|[1.0,1.0,31.0,0.0...|(7,[1,2,5],[1.0,0...|  [48.0,29.0]|[0.62337662337662...|       0.0|\n",
            "|       0|     1|  1|31.0|    1|    0|    52.0|     0.0|[1.0,1.0,31.0,1.0...|[0.0,1.0,0.384267...|  [48.0,29.0]|[0.62337662337662...|       0.0|\n",
            "+--------+------+---+----+-----+-----+--------+--------+--------------------+--------------------+-------------+--------------------+----------+\n",
            "only showing top 7 rows\n",
            "\n"
          ]
        }
      ]
    },
    {
      "cell_type": "markdown",
      "source": [
        "**Recuento de las predicciones**\n",
        "\n",
        "En lo siguiente concluimos lo siguiente:\n",
        "  - Cuando predecimos que sobrevive, 1, y verdaderamente lo hace. El modelo ha acertado un total de 42 veces. Sin embargo, el modelo ha fallado un total de 21 veces.\n",
        "  - Cuando predecimos que no sobrevive, 0, y verdaderamente no lo hace. El modelo ha acertado un total de 114 veces. Sin embargo, el modelo ha fallado un total de 6 veces.\n",
        "\n",
        "Observamos que predice bastante bien si no sobrevive. Pero la predicción de si sobrevive es baja debido a los pocos datos que se tienen."
      ],
      "metadata": {
        "id": "ktMDkvGVwbyh"
      }
    },
    {
      "cell_type": "code",
      "source": [
        "predictions.select(\"prediction\", depent_cols).groupBy(\"prediction\", depent_cols).count().show()"
      ],
      "metadata": {
        "id": "hvUFCE9PLbPp",
        "colab": {
          "base_uri": "https://localhost:8080/"
        },
        "outputId": "87cd53db-f89f-4185-acac-f6fa195a1237"
      },
      "execution_count": null,
      "outputs": [
        {
          "output_type": "stream",
          "name": "stdout",
          "text": [
            "+----------+--------+-----+\n",
            "|prediction|Survived|count|\n",
            "+----------+--------+-----+\n",
            "|       1.0|       0|    6|\n",
            "|       0.0|       0|  114|\n",
            "|       0.0|       1|   21|\n",
            "|       1.0|       1|   42|\n",
            "+----------+--------+-----+\n",
            "\n"
          ]
        }
      ]
    },
    {
      "cell_type": "code",
      "source": [
        "print(f'Con el modelo de arbol de decisión hemos obtenido una precisión de {accuracy_dt:.4f}')"
      ],
      "metadata": {
        "colab": {
          "base_uri": "https://localhost:8080/"
        },
        "id": "mOdPtxxeGli7",
        "outputId": "7d47ea6b-cbe7-48dc-8948-a2104ca789b1"
      },
      "execution_count": null,
      "outputs": [
        {
          "output_type": "stream",
          "name": "stdout",
          "text": [
            "Con el modelo de arbol de decisión hemos obtenido una precisión de 0.8525\n"
          ]
        }
      ]
    },
    {
      "cell_type": "markdown",
      "source": [
        "### Árbol de decisión: Boosting del gradiente.\n",
        "La diferencia de este con el modelo de árbol de decisión es que se cobinan múltiples árboles de decisión secuencialmente. Cada nuevo árbol corrige el error del anterior.\n",
        "Los parámetros indicados son los siguientes:\n",
        "  - `labelCol`: De tipo *double*, es decir, decimal.\n",
        "  - `featuresCol`: Este debe de ser un vector con las variables independientes.\n",
        "  - `maxIter`: De tipo *int*, el número máximo de árboles.\n",
        "\n",
        "Al igual que en el modelo de Árbol de decisión, la predicción devuelve las mismas columnas.\n"
      ],
      "metadata": {
        "id": "PhL2SnNnAYrd"
      }
    },
    {
      "cell_type": "code",
      "source": [
        "gbt = GBTClassifier(labelCol=depent_cols,\n",
        "                    featuresCol=\"scaled_features\",\n",
        "                    maxIter=20)\n",
        "gbtModel = gbt.fit(train_data)"
      ],
      "metadata": {
        "id": "-iY2qqdyHfSn"
      },
      "execution_count": null,
      "outputs": []
    },
    {
      "cell_type": "markdown",
      "source": [
        "Observamos que el árbol cosntruido contiene 20 árboles, indicados en `maxIter`; un total de dos clases, correspondientes a la variable dependiente; un total de siete variables independientes, `feature_cols`."
      ],
      "metadata": {
        "id": "kVcIkY3d1VHZ"
      }
    },
    {
      "cell_type": "code",
      "source": [
        "print(gbtModel)"
      ],
      "metadata": {
        "colab": {
          "base_uri": "https://localhost:8080/"
        },
        "id": "HWfaXQBn1TRR",
        "outputId": "8ba9f17e-a488-4650-cc65-cc1e11e6039f"
      },
      "execution_count": null,
      "outputs": [
        {
          "output_type": "stream",
          "name": "stdout",
          "text": [
            "GBTClassificationModel: uid = GBTClassifier_22f22559f33d, numTrees=20, numClasses=2, numFeatures=7\n"
          ]
        }
      ]
    },
    {
      "cell_type": "code",
      "source": [
        "predictions = gbtModel.transform(test_data)\n",
        "\n",
        "evaluator = MulticlassClassificationEvaluator(labelCol=depent_cols, predictionCol=\"prediction\", metricName=\"accuracy\")\n",
        "accuracy_gbt = evaluator.evaluate(predictions)"
      ],
      "metadata": {
        "id": "7U3WgoEGH6Em"
      },
      "execution_count": null,
      "outputs": []
    },
    {
      "cell_type": "code",
      "source": [
        "predictions.show(7)"
      ],
      "metadata": {
        "colab": {
          "base_uri": "https://localhost:8080/"
        },
        "id": "M7vA5paUIAK_",
        "outputId": "49adeb64-4798-4bb2-f440-a7e68870005f"
      },
      "execution_count": null,
      "outputs": [
        {
          "output_type": "stream",
          "name": "stdout",
          "text": [
            "+--------+------+---+----+-----+-----+--------+--------+--------------------+--------------------+--------------------+--------------------+----------+\n",
            "|Survived|Pclass|Sex| Age|SibSp|Parch|    Fare|Embarked|            features|     scaled_features|       rawPrediction|         probability|prediction|\n",
            "+--------+------+---+----+-----+-----+--------+--------+--------------------+--------------------+--------------------+--------------------+----------+\n",
            "|       0|     1|  1|27.0|    0|    2|   211.5|     1.0|[1.0,1.0,27.0,0.0...|[0.0,1.0,0.334003...|[0.11166180988048...|[0.55560001645553...|       0.0|\n",
            "|       0|     1|  1|28.0|    0|    0| 27.7208|     1.0|[1.0,1.0,28.0,0.0...|[0.0,1.0,0.346569...|[0.06686365664247...|[0.53338209549020...|       0.0|\n",
            "|       0|     1|  1|28.0|    0|    0| 30.6958|     1.0|[1.0,1.0,28.0,0.0...|[0.0,1.0,0.346569...|[0.06686365664247...|[0.53338209549020...|       0.0|\n",
            "|       0|     1|  1|28.0|    0|    0|    42.4|     0.0|[1.0,1.0,28.0,0.0...|(7,[1,2,5],[1.0,0...|[0.48410770367406...|[0.72476364775293...|       0.0|\n",
            "|       0|     1|  1|28.0|    0|    0|221.7792|     0.0|[1.0,1.0,28.0,0.0...|(7,[1,2,5],[1.0,0...|[0.47970265876912...|[0.72300272399112...|       0.0|\n",
            "|       0|     1|  1|31.0|    0|    0| 50.4958|     0.0|[1.0,1.0,31.0,0.0...|(7,[1,2,5],[1.0,0...|[0.14138614473047...|[0.57022575618449...|       0.0|\n",
            "|       0|     1|  1|31.0|    1|    0|    52.0|     0.0|[1.0,1.0,31.0,1.0...|[0.0,1.0,0.384267...|[0.14138614473047...|[0.57022575618449...|       0.0|\n",
            "+--------+------+---+----+-----+-----+--------+--------+--------------------+--------------------+--------------------+--------------------+----------+\n",
            "only showing top 7 rows\n",
            "\n"
          ]
        }
      ]
    },
    {
      "cell_type": "markdown",
      "source": [
        "**Recuento de las predicciones**\n",
        "\n",
        "En lo siguiente concluimos lo siguiente:\n",
        "  - Cuando predecimos que sobrevive, 1, y verdaderamente lo hace. El modelo ha acertado un total de 44 veces. Sin embargo, el modelo ha fallado un total de 19 veces.\n",
        "  - Cuando predecimos que no sobrevive, 0, y verdaderamente no lo hace. El modelo ha acertado un total de 115 veces. Sin embargo, el modelo ha fallado un total de 5 veces."
      ],
      "metadata": {
        "id": "bNge8Rne07tj"
      }
    },
    {
      "cell_type": "code",
      "source": [
        "predictions.select(\"prediction\", depent_cols).groupBy(\"prediction\", depent_cols).count().show()"
      ],
      "metadata": {
        "id": "N1yptzWOLavp",
        "colab": {
          "base_uri": "https://localhost:8080/"
        },
        "outputId": "b90964cb-2f58-41a6-8efa-6fed645c8a98"
      },
      "execution_count": null,
      "outputs": [
        {
          "output_type": "stream",
          "name": "stdout",
          "text": [
            "+----------+--------+-----+\n",
            "|prediction|Survived|count|\n",
            "+----------+--------+-----+\n",
            "|       1.0|       0|    5|\n",
            "|       0.0|       0|  115|\n",
            "|       0.0|       1|   19|\n",
            "|       1.0|       1|   44|\n",
            "+----------+--------+-----+\n",
            "\n"
          ]
        }
      ]
    },
    {
      "cell_type": "code",
      "source": [
        "print(f'Con el modelo de arbol de decisión con boosting del gradiente hemos obtenido una precisión de {accuracy_gbt:.4f}')"
      ],
      "metadata": {
        "colab": {
          "base_uri": "https://localhost:8080/"
        },
        "id": "AHcGnoExIFrU",
        "outputId": "08495ddf-d719-45a6-85ea-fe908293a1a9"
      },
      "execution_count": null,
      "outputs": [
        {
          "output_type": "stream",
          "name": "stdout",
          "text": [
            "Con el modelo de arbol de decisión con boosting del gradiente hemos obtenido una precisión de 0.8689\n"
          ]
        }
      ]
    },
    {
      "cell_type": "markdown",
      "source": [
        "### **Regresión Logística.**\n",
        "La regresión logística se trata de un método estadístico que trata de modelar la probabilidad de una variable cualitativa binaria.\n",
        "Los inputs necesarios para la realización de `DecisionTreeClassifier` son:\n",
        "  - `labelCol`: De tipo *double*, es decir, decimal.\n",
        "  - `featuresCol`: Este debe de ser un vector con las variables independientes.\n",
        "\n",
        "Al igual que en el modelo de Árbol de decisión, la predicción devuelve las mismas columnas."
      ],
      "metadata": {
        "id": "DU5LhRPO_2S4"
      }
    },
    {
      "cell_type": "code",
      "source": [
        "lr = LogisticRegression(featuresCol=\"features\", labelCol=depent_cols)\n",
        "\n",
        "lrModel = lr.fit(train_data) #ajuste del modelo"
      ],
      "metadata": {
        "id": "aao0ITGDEcib"
      },
      "execution_count": null,
      "outputs": []
    },
    {
      "cell_type": "code",
      "source": [
        "predictions = lrModel.transform(test_data)\n",
        "\n",
        "multi_evaluator = MulticlassClassificationEvaluator(labelCol=depent_cols, predictionCol=\"prediction\")\n",
        "accuracy_lr = multi_evaluator.evaluate(predictions, {multi_evaluator.metricName: \"accuracy\"})"
      ],
      "metadata": {
        "id": "r434co6qEsjN"
      },
      "execution_count": null,
      "outputs": []
    },
    {
      "cell_type": "code",
      "source": [
        "predictions.select(\"prediction\", depent_cols).groupBy(\"prediction\", depent_cols).count().show()"
      ],
      "metadata": {
        "id": "raZWlPGOLb6z",
        "colab": {
          "base_uri": "https://localhost:8080/"
        },
        "outputId": "50f8e792-b530-4c15-9238-da6017710ad7"
      },
      "execution_count": null,
      "outputs": [
        {
          "output_type": "stream",
          "name": "stdout",
          "text": [
            "+----------+--------+-----+\n",
            "|prediction|Survived|count|\n",
            "+----------+--------+-----+\n",
            "|       1.0|       0|   15|\n",
            "|       0.0|       0|  105|\n",
            "|       0.0|       1|   19|\n",
            "|       1.0|       1|   44|\n",
            "+----------+--------+-----+\n",
            "\n"
          ]
        }
      ]
    },
    {
      "cell_type": "markdown",
      "source": [
        "**Recuento de las predicciones**\n",
        "\n",
        "En lo siguiente concluimos lo siguiente:\n",
        "  - Cuando predecimos que sobrevive, 1, y verdaderamente lo hace. El modelo ha acertado un total de 44 veces. Sin embargo, el modelo ha fallado un total de 19 veces.\n",
        "  - Cuando predecimos que no sobrevive, 0, y verdaderamente no lo hace. El modelo ha acertado un total de 105 veces. Sin embargo, el modelo ha fallado un total de 15 veces."
      ],
      "metadata": {
        "id": "ylsy8OOAwSww"
      }
    },
    {
      "cell_type": "code",
      "source": [
        "predictions.show(7)"
      ],
      "metadata": {
        "colab": {
          "base_uri": "https://localhost:8080/"
        },
        "id": "MxTrQx--FPnG",
        "outputId": "dbab3203-090e-482c-984f-e329862c6e06"
      },
      "execution_count": null,
      "outputs": [
        {
          "output_type": "stream",
          "name": "stdout",
          "text": [
            "+--------+------+---+----+-----+-----+--------+--------+--------------------+--------------------+--------------------+--------------------+----------+\n",
            "|Survived|Pclass|Sex| Age|SibSp|Parch|    Fare|Embarked|            features|     scaled_features|       rawPrediction|         probability|prediction|\n",
            "+--------+------+---+----+-----+-----+--------+--------+--------------------+--------------------+--------------------+--------------------+----------+\n",
            "|       0|     1|  1|27.0|    0|    2|   211.5|     1.0|[1.0,1.0,27.0,0.0...|[0.0,1.0,0.334003...|[-0.4085223322723...|[0.39926649102204...|       1.0|\n",
            "|       0|     1|  1|28.0|    0|    0| 27.7208|     1.0|[1.0,1.0,28.0,0.0...|[0.0,1.0,0.346569...|[-0.1477295871094...|[0.46313462477245...|       1.0|\n",
            "|       0|     1|  1|28.0|    0|    0| 30.6958|     1.0|[1.0,1.0,28.0,0.0...|[0.0,1.0,0.346569...|[-0.1539467996456...|[0.46158913038311...|       1.0|\n",
            "|       0|     1|  1|28.0|    0|    0|    42.4|     0.0|[1.0,1.0,28.0,0.0...|(7,[1,2,5],[1.0,0...|[0.03070528573411...|[0.50767571837807...|       0.0|\n",
            "|       0|     1|  1|28.0|    0|    0|221.7792|     0.0|[1.0,1.0,28.0,0.0...|(7,[1,2,5],[1.0,0...|[-0.3441648355986...|[0.41479814477863...|       1.0|\n",
            "|       0|     1|  1|31.0|    0|    0| 50.4958|     0.0|[1.0,1.0,31.0,0.0...|(7,[1,2,5],[1.0,0...|[0.11516951971725...|[0.52876059686464...|       0.0|\n",
            "|       0|     1|  1|31.0|    1|    0|    52.0|     0.0|[1.0,1.0,31.0,1.0...|[0.0,1.0,0.384267...|[0.39005153868868...|[0.59629510612528...|       0.0|\n",
            "+--------+------+---+----+-----+-----+--------+--------+--------------------+--------------------+--------------------+--------------------+----------+\n",
            "only showing top 7 rows\n",
            "\n"
          ]
        }
      ]
    },
    {
      "cell_type": "code",
      "source": [
        "print(f'Con el modelo de regresión lineal hemos obtenido una precisión de {accuracy_lr:.4f}')"
      ],
      "metadata": {
        "colab": {
          "base_uri": "https://localhost:8080/"
        },
        "id": "M09d4vXNFStU",
        "outputId": "826971ab-fbe4-4433-9098-221a48bbd979"
      },
      "execution_count": null,
      "outputs": [
        {
          "output_type": "stream",
          "name": "stdout",
          "text": [
            "Con el modelo de regresión lineal hemos obtenido una precisión de 0.8142\n"
          ]
        }
      ]
    },
    {
      "cell_type": "markdown",
      "source": [
        "### Random Forest.\n",
        "Random Forest se trata de un modelo de clasificación binaria que utiliza árboles de decisión para alcanzar un único resultado. Este modelo es apto cuando en los árboles individuales no están correlacionados entre si.\n",
        "\n",
        "Los parámetros indicados son los siguientes:\n",
        "  - `labelCol`: De tipo *double*, es decir, decimal.\n",
        "  - `featuresCol`: Este debe de ser un vector con las variables independientes.\n",
        "  - `numTrees`: De tipo *int*, el número de árboles de decisión que se van a construir en el modelo.\n",
        "\n",
        "Al igual que en el modelo de Árbol de decisión, la predicción devuelve las mismas columnas."
      ],
      "metadata": {
        "id": "GI_MnhL8ALrL"
      }
    },
    {
      "cell_type": "code",
      "source": [
        "rf = RandomForestClassifier(labelCol=depent_cols,\n",
        "                            featuresCol=\"scaled_features\",\n",
        "                            numTrees=30)\n",
        "rfModel = rf.fit(train_data)"
      ],
      "metadata": {
        "id": "QYIWYKxQITV-"
      },
      "execution_count": null,
      "outputs": []
    },
    {
      "cell_type": "code",
      "source": [
        "predictions = rfModel.transform(test_data)\n",
        "\n",
        "evaluator = MulticlassClassificationEvaluator(labelCol=depent_cols, predictionCol=\"prediction\", metricName=\"accuracy\")\n",
        "accuracy_rf = evaluator.evaluate(predictions)"
      ],
      "metadata": {
        "id": "-zVCfx7jIUHW"
      },
      "execution_count": null,
      "outputs": []
    },
    {
      "cell_type": "code",
      "source": [
        "predictions.show(7)"
      ],
      "metadata": {
        "colab": {
          "base_uri": "https://localhost:8080/"
        },
        "id": "WvKHBCQeIUBb",
        "outputId": "bac388f4-c6a1-43fe-e626-c6e616c42d21"
      },
      "execution_count": null,
      "outputs": [
        {
          "output_type": "stream",
          "name": "stdout",
          "text": [
            "+--------+------+---+----+-----+-----+--------+--------+--------------------+--------------------+--------------------+--------------------+----------+\n",
            "|Survived|Pclass|Sex| Age|SibSp|Parch|    Fare|Embarked|            features|     scaled_features|       rawPrediction|         probability|prediction|\n",
            "+--------+------+---+----+-----+-----+--------+--------+--------------------+--------------------+--------------------+--------------------+----------+\n",
            "|       0|     1|  1|27.0|    0|    2|   211.5|     1.0|[1.0,1.0,27.0,0.0...|[0.0,1.0,0.334003...|[19.1711686708752...|[0.63903895569584...|       0.0|\n",
            "|       0|     1|  1|28.0|    0|    0| 27.7208|     1.0|[1.0,1.0,28.0,0.0...|[0.0,1.0,0.346569...|[20.5668873348942...|[0.68556291116314...|       0.0|\n",
            "|       0|     1|  1|28.0|    0|    0| 30.6958|     1.0|[1.0,1.0,28.0,0.0...|[0.0,1.0,0.346569...|[20.5668873348942...|[0.68556291116314...|       0.0|\n",
            "|       0|     1|  1|28.0|    0|    0|    42.4|     0.0|[1.0,1.0,28.0,0.0...|(7,[1,2,5],[1.0,0...|[22.0967629246920...|[0.73655876415640...|       0.0|\n",
            "|       0|     1|  1|28.0|    0|    0|221.7792|     0.0|[1.0,1.0,28.0,0.0...|(7,[1,2,5],[1.0,0...|[20.8295188629809...|[0.69431729543269...|       0.0|\n",
            "|       0|     1|  1|31.0|    0|    0| 50.4958|     0.0|[1.0,1.0,31.0,0.0...|(7,[1,2,5],[1.0,0...|[21.9093914726146...|[0.73031304908715...|       0.0|\n",
            "|       0|     1|  1|31.0|    1|    0|    52.0|     0.0|[1.0,1.0,31.0,1.0...|[0.0,1.0,0.384267...|[21.9093914726146...|[0.73031304908715...|       0.0|\n",
            "+--------+------+---+----+-----+-----+--------+--------+--------------------+--------------------+--------------------+--------------------+----------+\n",
            "only showing top 7 rows\n",
            "\n"
          ]
        }
      ]
    },
    {
      "cell_type": "code",
      "source": [
        "predictions.select(\"prediction\", depent_cols).groupBy(\"prediction\", depent_cols).count().show()"
      ],
      "metadata": {
        "id": "h8gwJ1ChLaCE",
        "colab": {
          "base_uri": "https://localhost:8080/"
        },
        "outputId": "2996a13f-efcb-4cd9-9650-dec8008484eb"
      },
      "execution_count": null,
      "outputs": [
        {
          "output_type": "stream",
          "name": "stdout",
          "text": [
            "+----------+--------+-----+\n",
            "|prediction|Survived|count|\n",
            "+----------+--------+-----+\n",
            "|       1.0|       0|    6|\n",
            "|       0.0|       0|  114|\n",
            "|       0.0|       1|   20|\n",
            "|       1.0|       1|   43|\n",
            "+----------+--------+-----+\n",
            "\n"
          ]
        }
      ]
    },
    {
      "cell_type": "code",
      "source": [
        "print(f'Con el modelo de Random Forest hemos obtenido una precisión de {accuracy_rf:.4f}')"
      ],
      "metadata": {
        "colab": {
          "base_uri": "https://localhost:8080/"
        },
        "id": "mVPp5k5rIT-a",
        "outputId": "b65954e5-87df-43fc-a184-cccf5cfd3dd1"
      },
      "execution_count": null,
      "outputs": [
        {
          "output_type": "stream",
          "name": "stdout",
          "text": [
            "Con el modelo de Random Forest hemos obtenido una precisión de 0.8579\n"
          ]
        }
      ]
    },
    {
      "cell_type": "markdown",
      "source": [
        "### Support Vector Machine\n",
        "Support Vector Machine son algoritmos de aprendizaje supervisado para la clasificación datos en espacios multidimensionales. Su objetivo es encontrar el hiperplano óptimo con la mejor separación de las clases de datos, maximizando el margen entre ellas. Es efectivo cuando se tiene un dataset de numeroso datos y además es resistente a datos atípicos.\n",
        "\n",
        "\n",
        "Los parámetros indicados son los siguientes:\n",
        "  - `labelCol`: De tipo *double*, es decir, decimal.\n",
        "  - `featuresCol`: Este debe de ser un vector con las variables independientes.\n",
        "  - `maxIter`: De tipo *int*, cuántas veces el algoritmo intentará ajustar los coeficientes del hiperplano para optimizar la separación entre las clases en el conjunto de entrenamiento.\n",
        "\n",
        "Al igual que en el modelo de Árbol de decisión, la predicción devuelve las mismas columnas."
      ],
      "metadata": {
        "id": "pqpU2TlBAipk"
      }
    },
    {
      "cell_type": "code",
      "source": [
        "lsvc = LinearSVC(labelCol=depent_cols,\n",
        "                 featuresCol=\"scaled_features\",\n",
        "                 maxIter=30)\n",
        "lsvcModel = lsvc.fit(train_data)"
      ],
      "metadata": {
        "id": "J3dMIVBgJEbJ"
      },
      "execution_count": null,
      "outputs": []
    },
    {
      "cell_type": "code",
      "source": [
        "predictions = lsvcModel.transform(test_data)\n",
        "evaluator = MulticlassClassificationEvaluator(labelCol=depent_cols, predictionCol=\"prediction\", metricName=\"accuracy\")\n",
        "accuracy_lsvc = evaluator.evaluate(predictions)"
      ],
      "metadata": {
        "id": "wa9Ek_K1JEYN"
      },
      "execution_count": null,
      "outputs": []
    },
    {
      "cell_type": "code",
      "source": [
        "predictions.select(\"prediction\", depent_cols).groupBy(\"prediction\", depent_cols).count().show()"
      ],
      "metadata": {
        "colab": {
          "base_uri": "https://localhost:8080/"
        },
        "id": "Dwv5wvLkLVWR",
        "outputId": "5873ebe6-14c9-423d-e45f-ee6ca89b5e2a"
      },
      "execution_count": null,
      "outputs": [
        {
          "output_type": "stream",
          "name": "stdout",
          "text": [
            "+----------+--------+-----+\n",
            "|prediction|Survived|count|\n",
            "+----------+--------+-----+\n",
            "|       1.0|       0|   16|\n",
            "|       0.0|       0|  104|\n",
            "|       0.0|       1|   22|\n",
            "|       1.0|       1|   41|\n",
            "+----------+--------+-----+\n",
            "\n"
          ]
        }
      ]
    },
    {
      "cell_type": "code",
      "source": [
        "predictions.show(7)"
      ],
      "metadata": {
        "colab": {
          "base_uri": "https://localhost:8080/"
        },
        "id": "HbGvGqPpJEVa",
        "outputId": "31076aeb-5c09-4778-f5fd-dab383c043f1"
      },
      "execution_count": null,
      "outputs": [
        {
          "output_type": "stream",
          "name": "stdout",
          "text": [
            "+--------+------+---+----+-----+-----+--------+--------+--------------------+--------------------+--------------------+----------+\n",
            "|Survived|Pclass|Sex| Age|SibSp|Parch|    Fare|Embarked|            features|     scaled_features|       rawPrediction|prediction|\n",
            "+--------+------+---+----+-----+-----+--------+--------+--------------------+--------------------+--------------------+----------+\n",
            "|       0|     1|  1|27.0|    0|    2|   211.5|     1.0|[1.0,1.0,27.0,0.0...|[0.0,1.0,0.334003...|[0.99787184222027...|       0.0|\n",
            "|       0|     1|  1|28.0|    0|    0| 27.7208|     1.0|[1.0,1.0,28.0,0.0...|[0.0,1.0,0.346569...|[0.99856352082172...|       0.0|\n",
            "|       0|     1|  1|28.0|    0|    0| 30.6958|     1.0|[1.0,1.0,28.0,0.0...|[0.0,1.0,0.346569...|[0.99855004459767...|       0.0|\n",
            "|       0|     1|  1|28.0|    0|    0|    42.4|     0.0|[1.0,1.0,28.0,0.0...|(7,[1,2,5],[1.0,0...|[0.99883819091679...|       0.0|\n",
            "|       0|     1|  1|28.0|    0|    0|221.7792|     0.0|[1.0,1.0,28.0,0.0...|(7,[1,2,5],[1.0,0...|[0.99802563485302...|       0.0|\n",
            "|       0|     1|  1|31.0|    0|    0| 50.4958|     0.0|[1.0,1.0,31.0,0.0...|(7,[1,2,5],[1.0,0...|[0.99893826283454...|       0.0|\n",
            "|       0|     1|  1|31.0|    1|    0|    52.0|     0.0|[1.0,1.0,31.0,1.0...|[0.0,1.0,0.384267...|[0.99928173255924...|       0.0|\n",
            "+--------+------+---+----+-----+-----+--------+--------+--------------------+--------------------+--------------------+----------+\n",
            "only showing top 7 rows\n",
            "\n"
          ]
        }
      ]
    },
    {
      "cell_type": "code",
      "source": [
        "print(f'Con el modelo de Support Vector Machine hemos obtenido una precisión de {accuracy_lsvc:.4f}')"
      ],
      "metadata": {
        "colab": {
          "base_uri": "https://localhost:8080/"
        },
        "id": "1w4d5KrbJER7",
        "outputId": "e5e920b3-13ad-4a05-ceaf-cc7ff6a077bb"
      },
      "execution_count": null,
      "outputs": [
        {
          "output_type": "stream",
          "name": "stdout",
          "text": [
            "Con el modelo de Support Vector Machine hemos obtenido una precisión de 0.7923\n"
          ]
        }
      ]
    },
    {
      "cell_type": "markdown",
      "source": [
        "### Naive Bayes.\n",
        "\n",
        "Se trata de un modelo basado en el teorema de Bayes. Se asume que las variables son independientes. Calcula la probabilidad de que una caso pertenezca a una clase dadas una serie de características.\n",
        "\n",
        "\n",
        "Los parámetros indicados son los siguientes:\n",
        "  - `labelCol`: De tipo *double*, es decir, decimal.\n",
        "  - `featuresCol`: Este debe de ser un vector con las variables independientes.\n",
        "\n",
        "Al igual que en el modelo de Árbol de decisión, la predicción devuelve las mismas columnas."
      ],
      "metadata": {
        "id": "YZ1Bb6cPAv2l"
      }
    },
    {
      "cell_type": "code",
      "source": [
        "nb = NaiveBayes(labelCol=depent_cols,\n",
        "                featuresCol=\"scaled_features\")\n",
        "nbModel = nb.fit(train_data)"
      ],
      "metadata": {
        "id": "uRZyp5QwKu9L"
      },
      "execution_count": null,
      "outputs": []
    },
    {
      "cell_type": "code",
      "source": [
        "predictions = nbModel.transform(test_data)\n",
        "evaluator = MulticlassClassificationEvaluator(labelCol=depent_cols, predictionCol=\"prediction\", metricName=\"accuracy\")\n",
        "accuracy_nb = evaluator.evaluate(predictions)"
      ],
      "metadata": {
        "id": "D8B1ePQ7Ku6w"
      },
      "execution_count": null,
      "outputs": []
    },
    {
      "cell_type": "code",
      "source": [
        "predictions.select(\"prediction\", depent_cols).groupBy(\"prediction\", depent_cols).count().show()"
      ],
      "metadata": {
        "colab": {
          "base_uri": "https://localhost:8080/"
        },
        "id": "FtESGwcVKu38",
        "outputId": "a81c251c-c664-477f-b850-840d6cdcf265"
      },
      "execution_count": null,
      "outputs": [
        {
          "output_type": "stream",
          "name": "stdout",
          "text": [
            "+----------+--------+-----+\n",
            "|prediction|Survived|count|\n",
            "+----------+--------+-----+\n",
            "|       1.0|       0|    3|\n",
            "|       0.0|       0|  117|\n",
            "|       0.0|       1|   45|\n",
            "|       1.0|       1|   18|\n",
            "+----------+--------+-----+\n",
            "\n"
          ]
        }
      ]
    },
    {
      "cell_type": "code",
      "source": [
        "predictions.show(7)"
      ],
      "metadata": {
        "colab": {
          "base_uri": "https://localhost:8080/"
        },
        "id": "z2wq0XslzX15",
        "outputId": "ff3e240c-110c-44c8-a916-04cffee71ee3"
      },
      "execution_count": null,
      "outputs": [
        {
          "output_type": "stream",
          "name": "stdout",
          "text": [
            "+--------+------+---+----+-----+-----+--------+--------+--------------------+--------------------+--------------------+--------------------+----------+\n",
            "|Survived|Pclass|Sex| Age|SibSp|Parch|    Fare|Embarked|            features|     scaled_features|       rawPrediction|         probability|prediction|\n",
            "+--------+------+---+----+-----+-----+--------+--------+--------------------+--------------------+--------------------+--------------------+----------+\n",
            "|       0|     1|  1|27.0|    0|    2|   211.5|     1.0|[1.0,1.0,27.0,0.0...|[0.0,1.0,0.334003...|[-6.3062196892930...|[0.47933566795027...|       1.0|\n",
            "|       0|     1|  1|28.0|    0|    0| 27.7208|     1.0|[1.0,1.0,28.0,0.0...|[0.0,1.0,0.346569...|[-3.6868693337013...|[0.63281632871513...|       0.0|\n",
            "|       0|     1|  1|28.0|    0|    0| 30.6958|     1.0|[1.0,1.0,28.0,0.0...|[0.0,1.0,0.346569...|[-3.7098043292697...|[0.63131321827854...|       0.0|\n",
            "|       0|     1|  1|28.0|    0|    0|    42.4|     0.0|[1.0,1.0,28.0,0.0...|(7,[1,2,5],[1.0,0...|[-2.4623535485136...|[0.70650656923972...|       0.0|\n",
            "|       0|     1|  1|28.0|    0|    0|221.7792|     0.0|[1.0,1.0,28.0,0.0...|(7,[1,2,5],[1.0,0...|[-3.8452312483676...|[0.61981557038150...|       0.0|\n",
            "|       0|     1|  1|31.0|    0|    0| 50.4958|     0.0|[1.0,1.0,31.0,0.0...|(7,[1,2,5],[1.0,0...|[-2.5937860260032...|[0.70048772490360...|       0.0|\n",
            "|       0|     1|  1|31.0|    1|    0|    52.0|     0.0|[1.0,1.0,31.0,1.0...|[0.0,1.0,0.384267...|[-3.0461718629325...|[0.69170627642734...|       0.0|\n",
            "+--------+------+---+----+-----+-----+--------+--------+--------------------+--------------------+--------------------+--------------------+----------+\n",
            "only showing top 7 rows\n",
            "\n"
          ]
        }
      ]
    },
    {
      "cell_type": "code",
      "source": [
        "print(f'Con el modelo de Naive Bayes hemos obtenido una precisión de {accuracy_nb:.4f}')"
      ],
      "metadata": {
        "colab": {
          "base_uri": "https://localhost:8080/"
        },
        "id": "xZvBzG_wKkyX",
        "outputId": "82090b75-d32b-4845-9060-4e38f35a1cc7"
      },
      "execution_count": null,
      "outputs": [
        {
          "output_type": "stream",
          "name": "stdout",
          "text": [
            "Con el modelo de Naive Bayes hemos obtenido una precisión de 0.7377\n"
          ]
        }
      ]
    },
    {
      "cell_type": "markdown",
      "source": [
        "### Preceptrón Multicapa.\n",
        "Se trata de un tipo de modelo de aprendizaje que consiste en múltiples capas de neuronas interconectadas. Estas redes están organizadas en capas, con una capa de entrada, una o más capas ocultas y una capa de salida. Cada neurona en una capa está conectada a todas las neuronas de la capa siguiente. Además cada una de estas en una capa oculta de las salidas de la capa anterior, aplica una función de activación y pasa el resultado a la siguiente capa.\n",
        "\n",
        "Los parámetros indicados son los siguientes:\n",
        "  - `labelCol`: De tipo *double*, es decir, decimal.\n",
        "  - `featuresCol`: Este debe de ser un vector con las variables independientes.\n",
        "  - `layers`: Contiene una lista con la capa de entrada, las capas ocultas, y por último la capa de salida. En la capa de entrada debe de haber tantas neuronas como variables independientes; y en la capa de salida debe de haber tantas neuronas como valores únicos tenga la variable objetivo (si es modelo de clasificación).\n",
        "  - `maxIter`: De tipo *int*, número máximo de iteraciones permitidas.\n",
        "  - `blockSize`: Cantidad de datos que se procesan en paralelo durante cada iteración del algoritmo de optimización\n",
        "  - `seed`: Semilla para la generación de números aleatorios, lo que asegura que cada vez que se ejecute este código, la división sea consistente.\n",
        "  - `solver`: Método utilizado para resolver el problema de optimización durante el entrenamiento del modelo.\n",
        "\n",
        "Al igual que en el modelo de Árbol de decisión, la predicción devuelve las mismas columnas.\n",
        "\n",
        "\n"
      ],
      "metadata": {
        "id": "bW2rglqyArDV"
      }
    },
    {
      "cell_type": "code",
      "source": [
        "mlpc=MultilayerPerceptronClassifier(featuresCol=\"scaled_features\",labelCol=depent_cols ,layers = [len(feature_cols), 16, 2], maxIter=1000,blockSize=8,seed=7,solver=\"gd\")"
      ],
      "metadata": {
        "id": "PTg6dAETLd48"
      },
      "execution_count": null,
      "outputs": []
    },
    {
      "cell_type": "code",
      "source": [
        "ann = mlpc.fit(train_data)"
      ],
      "metadata": {
        "id": "C1cq9m-UMAmA"
      },
      "execution_count": null,
      "outputs": []
    },
    {
      "cell_type": "code",
      "source": [
        "predictions = ann.transform(test_data)\n",
        "evaluator = MulticlassClassificationEvaluator(labelCol=depent_cols, predictionCol='prediction',metricName='accuracy')\n",
        "accuracy_mlpc = evaluator.evaluate(predictions)"
      ],
      "metadata": {
        "id": "YK2HJfkIMCst"
      },
      "execution_count": null,
      "outputs": []
    },
    {
      "cell_type": "code",
      "source": [
        "predictions.select(\"prediction\", depent_cols).groupBy(\"prediction\", depent_cols).count().show()"
      ],
      "metadata": {
        "colab": {
          "base_uri": "https://localhost:8080/"
        },
        "id": "nnl95fj9MQmm",
        "outputId": "83cbf902-96bc-4050-cb48-75b680959e36"
      },
      "execution_count": null,
      "outputs": [
        {
          "output_type": "stream",
          "name": "stdout",
          "text": [
            "+----------+--------+-----+\n",
            "|prediction|Survived|count|\n",
            "+----------+--------+-----+\n",
            "|       1.0|       0|   14|\n",
            "|       0.0|       0|  106|\n",
            "|       0.0|       1|   22|\n",
            "|       1.0|       1|   41|\n",
            "+----------+--------+-----+\n",
            "\n"
          ]
        }
      ]
    },
    {
      "cell_type": "code",
      "source": [
        "predictions.show(7)"
      ],
      "metadata": {
        "colab": {
          "base_uri": "https://localhost:8080/"
        },
        "id": "YOTlab2gzlrs",
        "outputId": "8eb1cff1-9c6c-4191-f897-801f2f3b57a2"
      },
      "execution_count": null,
      "outputs": [
        {
          "output_type": "stream",
          "name": "stdout",
          "text": [
            "+--------+------+---+----+-----+-----+--------+--------+--------------------+--------------------+--------------------+--------------------+----------+\n",
            "|Survived|Pclass|Sex| Age|SibSp|Parch|    Fare|Embarked|            features|     scaled_features|       rawPrediction|         probability|prediction|\n",
            "+--------+------+---+----+-----+-----+--------+--------+--------------------+--------------------+--------------------+--------------------+----------+\n",
            "|       0|     1|  1|27.0|    0|    2|   211.5|     1.0|[1.0,1.0,27.0,0.0...|[0.0,1.0,0.334003...|[-0.2840109410847...|[0.62461807648434...|       0.0|\n",
            "|       0|     1|  1|28.0|    0|    0| 27.7208|     1.0|[1.0,1.0,28.0,0.0...|[0.0,1.0,0.346569...|[-0.0819992482266...|[0.67201241589184...|       0.0|\n",
            "|       0|     1|  1|28.0|    0|    0| 30.6958|     1.0|[1.0,1.0,28.0,0.0...|[0.0,1.0,0.346569...|[-0.0825100780899...|[0.67175318958980...|       0.0|\n",
            "|       0|     1|  1|28.0|    0|    0|    42.4|     0.0|[1.0,1.0,28.0,0.0...|(7,[1,2,5],[1.0,0...|[-0.0120748882049...|[0.66639520452410...|       0.0|\n",
            "|       0|     1|  1|28.0|    0|    0|221.7792|     0.0|[1.0,1.0,28.0,0.0...|(7,[1,2,5],[1.0,0...|[-0.0726487380622...|[0.63682907780844...|       0.0|\n",
            "|       0|     1|  1|31.0|    0|    0| 50.4958|     0.0|[1.0,1.0,31.0,0.0...|(7,[1,2,5],[1.0,0...|[-0.0127945732315...|[0.66403485230374...|       0.0|\n",
            "|       0|     1|  1|31.0|    1|    0|    52.0|     0.0|[1.0,1.0,31.0,1.0...|[0.0,1.0,0.384267...|[0.04156530613692...|[0.68048697671353...|       0.0|\n",
            "+--------+------+---+----+-----+-----+--------+--------+--------------------+--------------------+--------------------+--------------------+----------+\n",
            "only showing top 7 rows\n",
            "\n"
          ]
        }
      ]
    },
    {
      "cell_type": "code",
      "source": [
        "print(f'Con el modelo de perceptrón multicapa hemos obtenido una precisión de {accuracy_mlpc:.4f}')"
      ],
      "metadata": {
        "colab": {
          "base_uri": "https://localhost:8080/"
        },
        "id": "MpHt-ZNaMRav",
        "outputId": "ac3c7f14-03fb-4538-adc8-841a8f7d3223"
      },
      "execution_count": null,
      "outputs": [
        {
          "output_type": "stream",
          "name": "stdout",
          "text": [
            "Con el modelo de perceptrón multicapa hemos obtenido una precisión de 0.8033\n"
          ]
        }
      ]
    },
    {
      "cell_type": "markdown",
      "source": [
        "## Evaluación de todos los modelos.\n",
        "Tras la realización de todos los modelos de clasificación debemos comparar sus precisiones y ver cuál es la mejor de todas ellas."
      ],
      "metadata": {
        "id": "Cd1TLMp4BAJm"
      }
    },
    {
      "cell_type": "code",
      "source": [
        "accuracy = [\n",
        "    (\"Regresión Logística\", accuracy_lr),\n",
        "    (\"Árbol de decisión\", accuracy_dt),\n",
        "    (\"Árbol de decisión: Boosting del gradiente\", accuracy_gbt),\n",
        "    (\"Random Forest\", accuracy_rf),\n",
        "    (\"Support Vector Machine\", accuracy_lsvc),\n",
        "    (\"Naive Bayes\", accuracy_nb),\n",
        "    (\"Preceptrón Multicapa\", accuracy_mlpc),\n",
        "\n",
        "]\n",
        "\n",
        "schema = T.StructType([\n",
        "    T.StructField(\"Modelo\", T.StringType(), True),\n",
        "    T.StructField(\"Accuracy\", T.DoubleType(), True),\n",
        "])\n",
        "\n",
        "\n",
        "acc_models = spark.createDataFrame(accuracy, schema)"
      ],
      "metadata": {
        "id": "ITwTbOk38zFF"
      },
      "execution_count": null,
      "outputs": []
    },
    {
      "cell_type": "code",
      "source": [
        "acc_models.show()"
      ],
      "metadata": {
        "colab": {
          "base_uri": "https://localhost:8080/"
        },
        "id": "CsiBD3Py-cie",
        "outputId": "20b775d8-fc3f-42bf-cc8f-8e0247c44088"
      },
      "execution_count": null,
      "outputs": [
        {
          "output_type": "stream",
          "name": "stdout",
          "text": [
            "+--------------------+------------------+\n",
            "|              Modelo|          Accuracy|\n",
            "+--------------------+------------------+\n",
            "| Regresión Logística|0.8142076502732241|\n",
            "|   Árbol de decisión|0.8524590163934426|\n",
            "|Árbol de decisión...|0.8688524590163934|\n",
            "|       Random Forest|0.8579234972677595|\n",
            "|Support Vector Ma...|0.7923497267759563|\n",
            "|         Naive Bayes|0.7377049180327869|\n",
            "|Preceptrón Multicapa|0.8032786885245902|\n",
            "+--------------------+------------------+\n",
            "\n"
          ]
        }
      ]
    },
    {
      "cell_type": "code",
      "source": [
        "acc_models = acc_models.orderBy(acc_models[\"Accuracy\"].desc()) #orden descendente"
      ],
      "metadata": {
        "id": "RXIn7pXoBxkW"
      },
      "execution_count": null,
      "outputs": []
    },
    {
      "cell_type": "code",
      "source": [
        "acc_models.show()"
      ],
      "metadata": {
        "colab": {
          "base_uri": "https://localhost:8080/"
        },
        "id": "eqVkWMMJycBC",
        "outputId": "41d50dbd-270a-447e-a320-08ac0ab8d164"
      },
      "execution_count": null,
      "outputs": [
        {
          "output_type": "stream",
          "name": "stdout",
          "text": [
            "+--------------------+------------------+\n",
            "|              Modelo|          Accuracy|\n",
            "+--------------------+------------------+\n",
            "|Árbol de decisión...|0.8688524590163934|\n",
            "|       Random Forest|0.8579234972677595|\n",
            "|   Árbol de decisión|0.8524590163934426|\n",
            "| Regresión Logística|0.8142076502732241|\n",
            "|Preceptrón Multicapa|0.8032786885245902|\n",
            "|Support Vector Ma...|0.7923497267759563|\n",
            "|         Naive Bayes|0.7377049180327869|\n",
            "+--------------------+------------------+\n",
            "\n"
          ]
        }
      ]
    },
    {
      "cell_type": "code",
      "source": [
        "best_model = acc_models.first()[\"Modelo\"]\n",
        "best_acc = acc_models.first()[\"Accuracy\"]\n",
        "print(f'El mejor modelo para realizar un modelo de clasificación binario es \\033[1m{best_model}\\033[0m con una precisión de {best_acc:.2f}.')"
      ],
      "metadata": {
        "colab": {
          "base_uri": "https://localhost:8080/"
        },
        "id": "4IHPPyGZDtje",
        "outputId": "705f96ba-cebb-4383-84e4-5b38e8501681"
      },
      "execution_count": null,
      "outputs": [
        {
          "output_type": "stream",
          "name": "stdout",
          "text": [
            "El mejor modelo para realizar un modelo de clasificación binario es \u001b[1mÁrbol de decisión: Boosting del gradiente\u001b[0m con una precisión de 0.87.\n"
          ]
        }
      ]
    },
    {
      "cell_type": "markdown",
      "source": [
        "## Cerrar sesión del entorno."
      ],
      "metadata": {
        "id": "sg1EX0l9yg7T"
      }
    },
    {
      "cell_type": "code",
      "source": [
        "spark.stop()"
      ],
      "metadata": {
        "id": "QL6MNkchXPPY"
      },
      "execution_count": null,
      "outputs": []
    }
  ]
}